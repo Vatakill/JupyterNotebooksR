{
 "cells": [
  {
   "cell_type": "code",
   "execution_count": 1,
   "metadata": {},
   "outputs": [],
   "source": [
    "import numpy as np\n",
    "import pandas as pd\n",
    "import matplotlib.pyplot as plt\n",
    "import warnings\n",
    "warnings.filterwarnings('ignore')\n"
   ]
  },
  {
   "cell_type": "code",
   "execution_count": 2,
   "metadata": {},
   "outputs": [
    {
     "name": "stdout",
     "output_type": "stream",
     "text": [
      "c:\\Users\\rezav\\OneDrive\\Stalinis kompiuteris\\Duomenų mokslas\\JupyterNotebooksR\n"
     ]
    }
   ],
   "source": [
    "#standartiniai moduliai\n",
    "import numpy as np\n",
    "import numpy.polynomial.polynomial as poly\n",
    "import pandas as pd\n",
    "import matplotlib.pyplot as plt\n",
    "import matplotlib as mpl\n",
    "from datetime import datetime\n",
    "from dateutil import parser\n",
    "# import mysql.connector as cnt\n",
    "#import panel as pn\n",
    "#pn.extension()\n",
    "import seaborn as sns\n",
    "import os, sys\n",
    "print(os.getcwd())\n",
    "fontsize=16 #for all entries\n",
    "titlesize=24\n",
    "labelsize=16\n",
    "fwidth=6\n",
    "fheight=4"
   ]
  },
  {
   "cell_type": "code",
   "execution_count": 2,
   "metadata": {},
   "outputs": [],
   "source": [
    "df = pd.DataFrame() # naujos data frame sukurimas\n",
    "df['a'] = np.random.randint(10,50,10) \n",
    "df.to_csv('demoDF.csv', sep=';')"
   ]
  },
  {
   "cell_type": "code",
   "execution_count": 7,
   "metadata": {},
   "outputs": [
    {
     "data": {
      "text/html": [
       "<div>\n",
       "<style scoped>\n",
       "    .dataframe tbody tr th:only-of-type {\n",
       "        vertical-align: middle;\n",
       "    }\n",
       "\n",
       "    .dataframe tbody tr th {\n",
       "        vertical-align: top;\n",
       "    }\n",
       "\n",
       "    .dataframe thead th {\n",
       "        text-align: right;\n",
       "    }\n",
       "</style>\n",
       "<table border=\"1\" class=\"dataframe\">\n",
       "  <thead>\n",
       "    <tr style=\"text-align: right;\">\n",
       "      <th></th>\n",
       "      <th>Unnamed: 0</th>\n",
       "      <th>Pavadinimas</th>\n",
       "    </tr>\n",
       "  </thead>\n",
       "  <tbody>\n",
       "    <tr>\n",
       "      <th>0</th>\n",
       "      <td>0</td>\n",
       "      <td>Landynė daugiabutyje: ar gali būti blogiau?</td>\n",
       "    </tr>\n",
       "    <tr>\n",
       "      <th>1</th>\n",
       "      <td>1</td>\n",
       "      <td>Smarkios avarijos Ramučiuose liudininkai: kalt...</td>\n",
       "    </tr>\n",
       "    <tr>\n",
       "      <th>2</th>\n",
       "      <td>2</td>\n",
       "      <td>Už šūkį „šlovė Ukrainai“ – išpuoliai prieš lie...</td>\n",
       "    </tr>\n",
       "    <tr>\n",
       "      <th>3</th>\n",
       "      <td>3</td>\n",
       "      <td>Kauno centre – girto vairuotojo šou: nukentėjo...</td>\n",
       "    </tr>\n",
       "    <tr>\n",
       "      <th>4</th>\n",
       "      <td>4</td>\n",
       "      <td>„Vičiūnų grupė“ pardavė gamyklą Kaliningrade</td>\n",
       "    </tr>\n",
       "  </tbody>\n",
       "</table>\n",
       "</div>"
      ],
      "text/plain": [
       "   Unnamed: 0                                        Pavadinimas\n",
       "0           0        Landynė daugiabutyje: ar gali būti blogiau?\n",
       "1           1  Smarkios avarijos Ramučiuose liudininkai: kalt...\n",
       "2           2  Už šūkį „šlovė Ukrainai“ – išpuoliai prieš lie...\n",
       "3           3  Kauno centre – girto vairuotojo šou: nukentėjo...\n",
       "4           4     „Vičiūnų grupė“ pardavė gamyklą Kaliningrade  "
      ]
     },
     "execution_count": 7,
     "metadata": {},
     "output_type": "execute_result"
    }
   ],
   "source": [
    "#Surinkite visus kauno dienos straipsnių pavadinimus į pandas dataframe.\n",
    "#eksportuokite tai į CSV failą\n",
    "#eksportuotą CSV failą nuskaitykite su pandas\n",
    "\n",
    "sarasas = pd.read_csv('20240419_darbai.csv', sep=';')\n",
    "sarasas.head()\n"
   ]
  },
  {
   "cell_type": "code",
   "execution_count": 21,
   "metadata": {},
   "outputs": [
    {
     "data": {
      "text/html": [
       "<div>\n",
       "<style scoped>\n",
       "    .dataframe tbody tr th:only-of-type {\n",
       "        vertical-align: middle;\n",
       "    }\n",
       "\n",
       "    .dataframe tbody tr th {\n",
       "        vertical-align: top;\n",
       "    }\n",
       "\n",
       "    .dataframe thead th {\n",
       "        text-align: right;\n",
       "    }\n",
       "</style>\n",
       "<table border=\"1\" class=\"dataframe\">\n",
       "  <thead>\n",
       "    <tr style=\"text-align: right;\">\n",
       "      <th></th>\n",
       "      <th>Unnamed: 0</th>\n",
       "      <th>Pavadinimas</th>\n",
       "      <th>zodziuKiekis</th>\n",
       "    </tr>\n",
       "  </thead>\n",
       "  <tbody>\n",
       "    <tr>\n",
       "      <th>0</th>\n",
       "      <td>0</td>\n",
       "      <td>Landynė daugiabutyje: ar gali būti blogiau?</td>\n",
       "      <td>6</td>\n",
       "    </tr>\n",
       "    <tr>\n",
       "      <th>1</th>\n",
       "      <td>1</td>\n",
       "      <td>Smarkios avarijos Ramučiuose liudininkai: kalt...</td>\n",
       "      <td>8</td>\n",
       "    </tr>\n",
       "    <tr>\n",
       "      <th>2</th>\n",
       "      <td>2</td>\n",
       "      <td>Už šūkį „šlovė Ukrainai“ – išpuoliai prieš lie...</td>\n",
       "      <td>10</td>\n",
       "    </tr>\n",
       "    <tr>\n",
       "      <th>3</th>\n",
       "      <td>3</td>\n",
       "      <td>Kauno centre – girto vairuotojo šou: nukentėjo...</td>\n",
       "      <td>8</td>\n",
       "    </tr>\n",
       "    <tr>\n",
       "      <th>4</th>\n",
       "      <td>4</td>\n",
       "      <td>„Vičiūnų grupė“ pardavė gamyklą Kaliningrade</td>\n",
       "      <td>5</td>\n",
       "    </tr>\n",
       "  </tbody>\n",
       "</table>\n",
       "</div>"
      ],
      "text/plain": [
       "   Unnamed: 0                                        Pavadinimas  zodziuKiekis\n",
       "0           0        Landynė daugiabutyje: ar gali būti blogiau?             6\n",
       "1           1  Smarkios avarijos Ramučiuose liudininkai: kalt...             8\n",
       "2           2  Už šūkį „šlovė Ukrainai“ – išpuoliai prieš lie...            10\n",
       "3           3  Kauno centre – girto vairuotojo šou: nukentėjo...             8\n",
       "4           4     „Vičiūnų grupė“ pardavė gamyklą Kaliningrade               5"
      ]
     },
     "execution_count": 21,
     "metadata": {},
     "output_type": "execute_result"
    }
   ],
   "source": [
    "#pridėkite naują stulpelį, kuriame būtų žodžių kiekis kiekviename pavadinime\n",
    "sarasas['zodziuKiekis'] = sarasas['Pavadinimas'].str.split().str.len()\n",
    "sarasas.head()"
   ]
  },
  {
   "cell_type": "code",
   "execution_count": 22,
   "metadata": {},
   "outputs": [
    {
     "data": {
      "text/html": [
       "<div>\n",
       "<style scoped>\n",
       "    .dataframe tbody tr th:only-of-type {\n",
       "        vertical-align: middle;\n",
       "    }\n",
       "\n",
       "    .dataframe tbody tr th {\n",
       "        vertical-align: top;\n",
       "    }\n",
       "\n",
       "    .dataframe thead th {\n",
       "        text-align: right;\n",
       "    }\n",
       "</style>\n",
       "<table border=\"1\" class=\"dataframe\">\n",
       "  <thead>\n",
       "    <tr style=\"text-align: right;\">\n",
       "      <th></th>\n",
       "      <th>Unnamed: 0</th>\n",
       "      <th>Pavadinimas</th>\n",
       "      <th>zodziuKiekis</th>\n",
       "      <th>simboliuKiekis</th>\n",
       "    </tr>\n",
       "  </thead>\n",
       "  <tbody>\n",
       "    <tr>\n",
       "      <th>0</th>\n",
       "      <td>0</td>\n",
       "      <td>Landynė daugiabutyje: ar gali būti blogiau?</td>\n",
       "      <td>6</td>\n",
       "      <td>43</td>\n",
       "    </tr>\n",
       "    <tr>\n",
       "      <th>1</th>\n",
       "      <td>1</td>\n",
       "      <td>Smarkios avarijos Ramučiuose liudininkai: kalt...</td>\n",
       "      <td>8</td>\n",
       "      <td>85</td>\n",
       "    </tr>\n",
       "    <tr>\n",
       "      <th>2</th>\n",
       "      <td>2</td>\n",
       "      <td>Už šūkį „šlovė Ukrainai“ – išpuoliai prieš lie...</td>\n",
       "      <td>10</td>\n",
       "      <td>73</td>\n",
       "    </tr>\n",
       "    <tr>\n",
       "      <th>3</th>\n",
       "      <td>3</td>\n",
       "      <td>Kauno centre – girto vairuotojo šou: nukentėjo...</td>\n",
       "      <td>8</td>\n",
       "      <td>55</td>\n",
       "    </tr>\n",
       "    <tr>\n",
       "      <th>4</th>\n",
       "      <td>4</td>\n",
       "      <td>„Vičiūnų grupė“ pardavė gamyklą Kaliningrade</td>\n",
       "      <td>5</td>\n",
       "      <td>46</td>\n",
       "    </tr>\n",
       "  </tbody>\n",
       "</table>\n",
       "</div>"
      ],
      "text/plain": [
       "   Unnamed: 0                                        Pavadinimas  \\\n",
       "0           0        Landynė daugiabutyje: ar gali būti blogiau?   \n",
       "1           1  Smarkios avarijos Ramučiuose liudininkai: kalt...   \n",
       "2           2  Už šūkį „šlovė Ukrainai“ – išpuoliai prieš lie...   \n",
       "3           3  Kauno centre – girto vairuotojo šou: nukentėjo...   \n",
       "4           4     „Vičiūnų grupė“ pardavė gamyklą Kaliningrade     \n",
       "\n",
       "   zodziuKiekis  simboliuKiekis  \n",
       "0             6              43  \n",
       "1             8              85  \n",
       "2            10              73  \n",
       "3             8              55  \n",
       "4             5              46  "
      ]
     },
     "execution_count": 22,
     "metadata": {},
     "output_type": "execute_result"
    }
   ],
   "source": [
    "\n",
    "#pridėkite naują stulpelį, kuriame būtų pavadinime esančių simbolių kiekis\n",
    "sarasas['simboliuKiekis'] = sarasas['Pavadinimas'].str.len()\n",
    "sarasas.head()"
   ]
  },
  {
   "cell_type": "code",
   "execution_count": 23,
   "metadata": {},
   "outputs": [
    {
     "name": "stdout",
     "output_type": "stream",
     "text": [
      "9.211382113821138\n"
     ]
    }
   ],
   "source": [
    "#Koks vidutinis žodžių kiekis pavadinimuose? \n",
    "vidZod = sarasas['zodziuKiekis'].mean()\n",
    "print(vidZod)"
   ]
  },
  {
   "cell_type": "code",
   "execution_count": 28,
   "metadata": {},
   "outputs": [
    {
     "data": {
      "text/plain": [
       "<Axes: xlabel='zodziuKiekis', ylabel='Pavadinimas'>"
      ]
     },
     "execution_count": 28,
     "metadata": {},
     "output_type": "execute_result"
    },
    {
     "data": {
      "image/png": "[encoded data removed]",
      "text/plain": [
       "<Figure size 640x480 with 1 Axes>"
      ]
     },
     "metadata": {},
     "output_type": "display_data"
    }
   ],
   "source": [
    "#Po kiek pavadinimų turėjo vienodą žodžių kiekį? Atsakymui pateikite vizualizaciją (grafiką)\n",
    "\n",
    "ZK = sarasas.groupby('zodziuKiekis').count().reset_index()[['zodziuKiekis','Pavadinimas']]\n",
    "\n",
    "sns.barplot(data=ZK, x='zodziuKiekis', y='Pavadinimas')\n"
   ]
  },
  {
   "cell_type": "code",
   "execution_count": 36,
   "metadata": {},
   "outputs": [
    {
     "name": "stdout",
     "output_type": "stream",
     "text": [
      "['Landynė', 'daugiabutyje:', 'ar', 'gali', 'būti', 'blogiau?', 'Smarkios', 'avarijos', 'Ramučiuose', 'liudininkai:', 'kalti', 'neveikiantys', 'šviesoforai!', '(papildyta)', 'Už', 'šūkį', '„šlovė', 'Ukrainai“', '–', 'išpuoliai', 'prieš', 'lietuvius', 'užsienio', 'kurortuose', 'Kauno', 'centre', '–', 'girto', 'vairuotojo', 'šou:', 'nukentėjo', 'keleivis', '„Vičiūnų', 'grupė“', 'pardavė', 'gamyklą', 'Kaliningrade', 'Orai:', 'kai', 'kur', 'Lietuvoje', 'iš', 'dangaus', 'krito', 'snaigės', 'Mugė', 'Laisvės', 'alėjoje', '–', 'dar', 'gausesnė', 'Lietingą', 'rytą', 'Kaune', 'lydėjo', 'avarijos', 'Žada,', 'kad', 'iki', '2050-ųjų', 'žuvusiųjų', 'avarijose', 'nebebus:', 'kliedesiai', 'ar', 'realybė?', '„Vičiūnų', 'grupė“', 'pardavė', 'gamyklą', 'Kaliningrade', 'Landynė', 'daugiabutyje:', 'ar', 'gali', 'būti', 'blogiau?', 'Mugė', 'Laisvės', 'alėjoje', '–', 'dar', 'gausesnė', 'VRK:', 'dovanodamas', 'gėles', 'moterims', 'Kaziuko', 'mugėje', 'I.', 'Vėgėlė', 'papirkinėjo', 'rinkėjus', 'Sužydėjusios', 'Kauno', 'puošmenos', 'džiugins', 'iki', 'pat', 'rudens', 'Ilgapirščių', 'taikinys', '–', '25', 'tūkst.', 'eurų', 'vertės', 'kauniečių', '„Mercedes-Benz“', 'Nacionalinis', 'kultūros', 'forumas', 'mėgins', 'sujungti,', 'kas', 'sunkiai', 'sujungiama,', '–', 'kultūrą', 'ir', 'verslumą', 'Elektromobilių', 'vairuotojus', 'Kaune', 'pasitinka', 'pokyčiai:', 'atsiskaitymas', 'už', 'įkrovimą', '–', 'mobiliąja', 'programėle', '45-asis', '„Lietuvos', 'teatrų', 'pavasaris“', 'kviečia', 'Kauno', 'publiką', 'į', 'teatrališką', 'savaitę', 'Išskirtinėje', 'vietoje', '–', 'prestižiniai', '„Kauno', 'panoramos“', 'apartamentai', 'Kaune', 'tiriant', 'galimai', 'apgaule', 'įgytas', 'ES', 'lėšas', '–', 'įtarimai', 'devyniems', 'asmenims,', 'du', 'suimti', 'R.', 'Jatkevičiūtės-Kasparavičienės', 'sielos', 'peizažai', 'Liūčių', 'tvindomame', 'Dubajuje', 'esantis', 'lietuvis:', 'nustėrau', 'pamatęs', 'apsemtą', 'aštuntą', 'viešbučio', 'aukštą', 'Kauną', 'užplūs', 'skandinaviškos', 'kultūros', 'banga', 'Maironio', 'lietuvių', 'literatūros', 'muziejui', 'toliau', 'vadovaus', 'D.', 'Cibulskienė', 'Nufilmuota:', 'ką', 'daryti', 'su', 'nevalyvais', 'ir', 'neblaiviais', 'keleiviais?', 'Po', 'nuogąstavimo', 'dėl', 'per', 'siauros', 'sankryžos', '–', 'atsakas:', 'viskas', 'apskaičiuota', 'Viešojo', 'transporto', 'grimasos:', 'keleiviai', 'sugrūsti', 'kaip', 'silkės', 'Iš', 'Šiaulių', '„Akropolio“', 'buvo', 'evakuoti', 'žmonės', 'Ukmergės', 'gatvėje', 'neliks', '35', 'medžių:', 'kas', 'čia', 'planuojama?', 'Vėl', 'pirštu', 'beda', 'į', 'Trijų', 'mergelių', 'tilto', 'defektus:', 'jei', 'taip', 'toliau,', 'viskas', 'bus', 'sulopyta', 'Nufilmuota:', 'ką', 'daryti', 'su', 'nevalyvais', 'ir', 'neblaiviais', 'keleiviais?', 'Po', 'nuogąstavimo', 'dėl', 'per', 'siauros', 'sankryžos', '–', 'atsakas:', 'viskas', 'apskaičiuota', 'Viešojo', 'transporto', 'grimasos:', 'keleiviai', 'sugrūsti', 'kaip', 'silkės', 'Iš', 'Šiaulių', '„Akropolio“', 'buvo', 'evakuoti', 'žmonės', 'Žiurkėnas', 'mumyseReikia', 'saugoti', 'savo', 'kailiuką,', 'nes', 'gyvename...', 'Ar', 'prezidento', 'vadovaujama', 'Valstybės', 'gynimo', 'taryba', 'nieko', 'nebereiškia?', 'Lietuvą', 'pasiekė', 'puiki', 'žinia', '–', 'Vokietijos...', 'Po', 'Sibirą', '–', 'be', 'vadovoĮpusėjus', '1911-ųjų', 'vasarai,', 'Josifas...', 'Naujam', 'gyvenimui', 'kylančioje', 'Kauno', 'dalyje', '„YIT', 'Lietuva“', 'baigė', 'statyti', 'pirmuosius', '„Matau', 'Kauną“', 'namus', 'Išankstinis', 'laidotuvių', 'planavimas:', 'šia', 'tema', 'kalbėti', 'verta', 'Medicinos', 'centre', '„Northway“', 'Kaune', '–', 'itin', 'platus', 'sveikatos', 'priežiūros', 'paslaugų', 'spektras', '„Lidl', 'Lietuva“:', 'ir', 'toliau', 'didinsime', 'parduotuvių', 'bei', 'logistikos', 'centro', 'darbuotojų', 'atlyginimus', 'Projekto', '„Krėvės80“', 'penkiaaukštis', '–', 'komplekso', 'pažiba', '„YIT', 'Lietuva“', 'būsto', 'pardavimai', '–', '39', 'proc.', 'didesni', 'Naujam', 'gyvenimui', 'kylančioje', 'Kauno', 'dalyje', '„YIT', 'Lietuva“', 'baigė', 'statyti', 'pirmuosius', '„Matau', 'Kauną“', 'namus', 'Išankstinis', 'laidotuvių', 'planavimas:', 'šia', 'tema', 'kalbėti', 'verta', 'Medicinos', 'centre', '„Northway“', 'Kaune', '–', 'itin', 'platus', 'sveikatos', 'priežiūros', 'paslaugų', 'spektras', '„Lidl', 'Lietuva“:', 'ir', 'toliau', 'didinsime', 'parduotuvių', 'bei', 'logistikos', 'centro', 'darbuotojų', 'atlyginimus', 'Landynė', 'daugiabutyje:', 'ar', 'gali', 'būti', 'blogiau?', 'Dėl', 'galios', 'STT', 'per', 'gyvenimus', 'važiuoja', 'buldozeriu?', 'Policijos', 'pareigūnas:', 'valgyt', 'noriu,', 'na**ui', 'man,', 'protokolai', 'b**t', 'J.', 'Plisienė:', 'kas', 'tu', 'esi,', 'kai', 'tau', 'niekuo', 'nereikia', 'būti?', 'Į', 'kompensuojamųjų', 'vaistų', 'rezervinį', 'sąrašą', 'įtraukti', 'vaistai', 'nuo', 'cistinės', 'fibrozės', 'Specialistė', 'apie', 'lytiškumo', 'suvokimo', 'problemas:', 'lietuviai', 'nori,', 'bet', 'nežino,', 'kaip', 'tai', 'pasakyti', 'Klaiki', 'situacija:', 'apie', 'savižudybes', 'galvoja', 'ir', '9-mečiai', 'Pacientų', 'pavėžėjimu', 'rūpinsis', 'nebe', 'savivaldybės,', 'o', 'Greitosios', 'medicinos', 'pagalbos', 'tarnyba', 'VLK', 'priminė', 'pacientų', 'teises', 'ir', 'atsakomybę', 'už', 'savo', 'sveikatą', 'A.', 'Dulkys', 'tikisi,', 'kad', 'vaistai', 'nuo', 'cistinės', 'fibrozės', 'taps', 'kompensuojami', 'dar', 'šiemet', 'PSDF', 'finansuoja', 'naujus', 'tyrimus', 'ir', 'procedūras', 'prostatos,', 'krūties', 'vėžio,', 'žarnyno', 'infekcijoms', 'gydyti', 'VSAT', 'siūlo', 'griežtinti', 'taisykles', 'pasienyje', 'su', 'Rusija', 'Žiniasklaida:', 'V.', 'Semeškai', 'paliekant', 'KAM,', 'Gynybos', 'resursų', 'agentūroje', 'dirbti', 'pradėjo', 'jo', 'marti', 'Sukčiavimo', 'schema,', 'kai', 'tampate', 'nusikaltėlių', 'bendrininku', 'A.', 'Bilotaitė', 'sukritikavo', 'prezidentą:', 'apie', 'L.', 'Volkovo', 'užpuolikų', 'sulaikymą', 'turi', 'komentuoti', 'tarnybos', 'Likus', 'kelioms', 'savaitėms', 'iki', 'paskutinių', 'tarpinių', 'patikrinimų,', 'NŠA', 'papildomai', 'peržiūri', 'užduotis', 'G.', 'Landsbergis:', 'tankų', 'galime', 'laukti,', 'oro', 'gynybos', 'reikia', 'šiandien', 'Ministras:', 'tokie', 'įvykiai,', 'kaip', 'Izraelio', 'ataka,', 'didina', 'visa', 'apimančio', 'konflikto', 'riziką', 'Tvarumo', 'tendencija:', 'vis', 'daugiau', 'drabužių', 'keliauja', 'iš', 'rankų', 'į', 'rankas', 'Desertai', 'sveikiau', '–', 'ką', 'rinktis', 'saldžiam', 'kąsneliui', 'prie', 'kavos?', 'Pavasario', 'mados', 'tendencija:', 'provokacija', 'drąsai', 'ir', 'išskirtinumui', 'Pavasario', 'mada', '–', 'atraskite', 'tris', 'moteriškos', 'pavasario', 'mados', 'tendencijas', 'gaiviam', 'garderobui', 'Mada', '–', 'menas', 'ar', 'komercija?', 'Aktyvusis', 'stilius:', 'derinti', 'tai,', 'kas', 'atrodo', 'nesuderinama', 'Pateikė', 'daugiau', 'detalių:', 'L.', 'Volkovo', 'užpuolimu', 'Vilniuje', 'įtariami', 'du', 'Lenkijos', 'piliečiai', 'Maitinimo', 'sektoriaus', 'atstovų', 'protestas', 'prie', 'Vyriausybės:', 'prašo', 'grąžinti', 'lengvatinį', 'PVM', 'tarifą', '„Orlen', 'Lietuva“', 'atlygino', '146', 'tūkst.', 'eurų', 'į', 'jūrą', 'išsiliejusios', 'naftos', 'sukeltą', 'žalą', 'Dominuojanti', 'sporto', 'šaka', 'uostamiestyje', '–', 'plaukimas', '„Kauno', 'dienos“', 'studijoje', '–', 'K.', 'Kėvalas:', 'darbas', 'nėra', 'įsakytas,', 'o', 'šventė', 'yra', 'įsakyta', '„Kauno', 'dienos“', 'studijoje', '–', 'G.', 'Duoblys:', 'kaip', 'apsaugoti', 'vaikus', 'nuo', 'narkotikų?', '„Kauno', 'dienos“', 'studijoje', '–', 'jėgos', 'trikovės', 'čempionas', 'D.', 'Kasulis:', 'mus', 'limituoja', 'galva,', 'ne', 'kūnas', '„Kauno', 'dienos“', 'studijoje', '–', 'R.', 'Kurtinaitis:', 'vanduo,', 'duona', 'ir', 'malda', 'nepadės', 'laimėti', '„Kauno', 'dienos“', 'studijoje', '–', 'J.', 'Mačiulis:', 'dėl', 'pirmos', 'krizės', 'komandos', 'nereikia', 'ardyti', '„Kauno', 'dienos“', 'studijoje', '–', 'A.', 'Žiurauskas:', 'tebūnie', 'prakeikta', 'diena,', 'kai', 'hobį', 'paverčiau', 'darbu', 'VERT', 'įpareigojo', '„Amber', 'Grid“', 'pakeisti', 'GIPL', 'detales', 'su', 'rusiškomis', 'žymėmis', '„LTG', 'Link“', 'pasirašė', '200', 'mln.', 'eurų', 'paskolų', 'sutartis', 'su', 'NIB', 'ir', 'EIB', 'traukiniams', 'įsigyti', 'Maitinimo', 'sektoriaus', 'atstovų', 'protestas', 'prie', 'Vyriausybės:', 'prašo', 'grąžinti', 'lengvatinį', 'PVM', 'tarifą', '„Orlen', 'Lietuva“', 'atlygino', '146', 'tūkst.', 'eurų', 'į', 'jūrą', 'išsiliejusios', 'naftos', 'sukeltą', 'žalą', 'Lietuvoje', 'startuoja', 'Graikijos', '„Aegean', 'Airlines“', '–', 'dukart', 'per', 'savaitę', 'skraidins', 'į', 'Atėnus', '„Maxima“', 'kviečia', 'dirbti:', 'apmokome,', 'suteikiamas', 'transportas,', 'apgyvendinimas', 'bei', 'nemokamas', 'maitinimas', 'Lietuvos', 'specialistai', 'nuskenavo', 'Bučos', 'ir', 'Borodyankos', 'teritorijas', 'Ukrainoje:', 'buvo', 'apgadinti', 'dronai', 'Po', 'pranešimo', 'apie', 'smūgį', 'Iranui', 'ES', 'vadovė', 'paragino', 'šalis', 'susilaikyti', 'nuo', 'tolesnių', 'veiksmų', 'Izraelio', 'ministras,', 'užsiminęs,', 'kad', 'už', 'sprogimų', 'Irane', 'stovi', 'Izraelis,', 'sulaukė', 'pasmerkimo', 'Prancūzijai', 'areštavus', 'buvusios', 'V.', 'Putino', 'žmonos', 'partnerio', 'vilą', '–', 'Kremliaus', 'kritika', 'Niujorke', 'atrinkti', 'D.', 'Trumpo', 'baudžiamosios', 'bylos', 'prisiekusieji', 'Latvijos', 'užsienio', 'reikalų', 'ministre', 'patvirtinta', 'B.', 'Bražė', 'Latvijos', 'moksleiviai', 'turės', 'galimybę', 'nesimokyti', 'rusų', 'kaip', 'antrosios', 'užsienio', 'kalbos', 'D.', 'Trumpas:', 'Europa', 'turėtų', 'suteikti', 'Ukrainai', 'daugiau', 'pagalbos', 'Dominuojanti', 'sporto', 'šaka', 'uostamiestyje', '–', 'plaukimas', 'Krepšinio', 'trileris', 'Klaipėdoje:', 'du', 'pratęsimai,', '226', 'taškai', 'Marijampoliečiai', 'dramatiškai', 'palaužė', '„Olimpą“', 'ir', 'išlygino', 'bronzinės', 'serijos', 'rezultatą', '„Rytas“', 'pagerbė', 'legendą,', 'triumfavo', 'ir', 'pristatė', 'jaunąjį', 'savo', 'debiutantą', 'Visų', 'laikų', 'rekordą', 'pagerinęs', 'A.', 'Ebo', 'nukalė', 'triuškinančią', 'pergalę', 'prieš', 'Jonavos', 'ekipą', 'Oficialu:', '„Žalgiris“', 'sukirto', 'rankomis', 'su', 'D.', 'Riversu', 'Iki', 'motociklų', 'sezono', 'pradžios', 'liko', 'labai', 'nedaug:', 'kas', 'laukia', 'šiemet?', 'Ne', 'kartą', 'baustas', 'panevėžietis', 'už', 'kontrabandą', 'vėl', 'pakliuvo', 'į', 'pasieniečių', 'akiratį', 'Tris', 'pėsčiąsias', 'sužalojusiam', 'neblaiviam', 'pavežėjui', 'siūloma', 'užsegti', 'apykoję', 'Pateikė', 'daugiau', 'detalių:', 'L.', 'Volkovo', 'užpuolimu', 'Vilniuje', 'įtariami', 'du', 'Lenkijos', 'piliečiai', 'Vilniuje', 'sustabdytame', 'automobilyje', '–', 'įtartini', 'radiniai,', 'vairuotojas', 'uždarytas', 'į', 'areštinę', 'Vilniuje', 'ir', 'Vilniaus', 'rajone', 'galimai', 'smurtauta', 'prieš', 'mažamečius', 'Vilniuje', 'iš', 'moters', 'išvilioti', '6', 'tūkst.', 'eurų', 'Alytuje', 'išgertuvių', 'metu', 'vyras,', 'įtariama,', 'išžagino', 'moterį', 'Venecijos', 'šiuolaikinio', 'meno', 'bienalėje', 'atidaromas', 'Lietuvos', 'paviljonas', 'Už', 'viso', 'gyvenimo', 'nuopelnus', 'Lietuvos', 'kultūros', 'paveldui', 'apdovanoti', 'J.', 'Glemža,', 'R.', 'Jaloveckas', 'Princas', 'Williamas', 'pirmą', 'kartą', 'po', 'Kate', 'vėžio', 'diagnozės', 'grįžo', 'prie', 'viešųjų', 'pareigų', 'EŽTT', 'nepriėmė', 'F.', 'Kirkorovo', 'skundo', 'dėl', 'draudimo', 'atvykti', 'į', 'Lietuvą', 'Spektaklyje', '„Atžalynas“', '–', 'vertybių', 'priminimas', 'P.', 'Gražulis', 'apie', 'romantiškų', 'santykių', 'atnaujinimą', 'su', 'dukters', 'mama', 'Birute:', 'gal', 'yra', 'tas', 'noras', 'Mažosios', 'Lietuvos', 'saugomų', 'teritorijų', 'direkcijos', 'lankytojų', 'centrui', '–', 'ypatinga', 'dovana', 'Dienos', 'horoskopas', '12', 'Zodiako', 'ženklų', '(balandžio', '19', 'd.)', 'Pensininkas', 'per', 'parą', 'aplankė', '120', 'barų', 'ir', 'tapo', 'pasaulio', 'rekordininku', 'Sunkiai', 'įsivaizduojamo', 'statumo', 'gatvė', 'negąsdina', 'vairuotojų:', 'avarijų', 'daug,', 'bet', 'sutrumpėja', 'kelias', 'Atšilus', 'orams', 'viešose', 'vietose', 'lesinti', 'paukščius', 'draudžiama', 'Dienos', 'horoskopas', '12', 'Zodiako', 'ženklų', '(balandžio', '18', 'd.)', 'Nusikaltėlis', 'apsiginklavo', 'gyvate', 'ir', 'pabandė', 'apiplėšti', 'parduotuvę', 'Įspėjamieji', 'pranešimai', 'telefone:', 'kodėl', 'gauna', 'ne', 'visi?']\n"
     ]
    },
    {
     "data": {
      "text/html": [
       "<div>\n",
       "<style scoped>\n",
       "    .dataframe tbody tr th:only-of-type {\n",
       "        vertical-align: middle;\n",
       "    }\n",
       "\n",
       "    .dataframe tbody tr th {\n",
       "        vertical-align: top;\n",
       "    }\n",
       "\n",
       "    .dataframe thead th {\n",
       "        text-align: right;\n",
       "    }\n",
       "</style>\n",
       "<table border=\"1\" class=\"dataframe\">\n",
       "  <thead>\n",
       "    <tr style=\"text-align: right;\">\n",
       "      <th></th>\n",
       "      <th>zodziai</th>\n",
       "      <th>count</th>\n",
       "    </tr>\n",
       "  </thead>\n",
       "  <tbody>\n",
       "    <tr>\n",
       "      <th>0</th>\n",
       "      <td>–</td>\n",
       "      <td>33</td>\n",
       "    </tr>\n",
       "    <tr>\n",
       "      <th>1</th>\n",
       "      <td>ir</td>\n",
       "      <td>17</td>\n",
       "    </tr>\n",
       "    <tr>\n",
       "      <th>2</th>\n",
       "      <td>į</td>\n",
       "      <td>9</td>\n",
       "    </tr>\n",
       "    <tr>\n",
       "      <th>3</th>\n",
       "      <td>su</td>\n",
       "      <td>7</td>\n",
       "    </tr>\n",
       "    <tr>\n",
       "      <th>4</th>\n",
       "      <td>„Kauno</td>\n",
       "      <td>7</td>\n",
       "    </tr>\n",
       "    <tr>\n",
       "      <th>...</th>\n",
       "      <td>...</td>\n",
       "      <td>...</td>\n",
       "    </tr>\n",
       "    <tr>\n",
       "      <th>800</th>\n",
       "      <td>kodėl</td>\n",
       "      <td>1</td>\n",
       "    </tr>\n",
       "    <tr>\n",
       "      <th>801</th>\n",
       "      <td>gauna</td>\n",
       "      <td>1</td>\n",
       "    </tr>\n",
       "    <tr>\n",
       "      <th>802</th>\n",
       "      <td>viešose</td>\n",
       "      <td>1</td>\n",
       "    </tr>\n",
       "    <tr>\n",
       "      <th>803</th>\n",
       "      <td>Atšilus</td>\n",
       "      <td>1</td>\n",
       "    </tr>\n",
       "    <tr>\n",
       "      <th>804</th>\n",
       "      <td>visi?</td>\n",
       "      <td>1</td>\n",
       "    </tr>\n",
       "  </tbody>\n",
       "</table>\n",
       "<p>805 rows × 2 columns</p>\n",
       "</div>"
      ],
      "text/plain": [
       "     zodziai  count\n",
       "0          –     33\n",
       "1         ir     17\n",
       "2          į      9\n",
       "3         su      7\n",
       "4     „Kauno      7\n",
       "..       ...    ...\n",
       "800    kodėl      1\n",
       "801    gauna      1\n",
       "802  viešose      1\n",
       "803  Atšilus      1\n",
       "804    visi?      1\n",
       "\n",
       "[805 rows x 2 columns]"
      ]
     },
     "execution_count": 36,
     "metadata": {},
     "output_type": "execute_result"
    }
   ],
   "source": [
    "#Advanced: suraskite dažniausiai pasikartojantį žodį pavadinimuose.\n",
    "\n",
    "VisuZodziuSarasas = []\n",
    "for e in sarasas['Pavadinimas'].str.split():\n",
    "    VisuZodziuSarasas.extend(e)\n",
    "print(VisuZodziuSarasas)\n",
    "\n",
    "VisiZodziai = pd.DataFrame() # naujos data frame sukurimas\n",
    "\n",
    "VisiZodziai['zodziai'] = VisuZodziuSarasas\n",
    "\n",
    "VisiZodziai['zodziai'].value_counts().sort_values(ascending=False).reset_index()\n",
    "\n",
    "# df.to_csv('demoDF.csv', sep=';')\n",
    "\n",
    "# dfSarasas = pd.DataFrame()\n",
    "\n",
    "# dfSarasas['Pavadinimas'] = sarasas"
   ]
  },
  {
   "cell_type": "code",
   "execution_count": null,
   "metadata": {},
   "outputs": [],
   "source": [
    "#kas atliko šią užduotį: turit likus į kiekvieną straipsnį konkrečiai. Surinkite tokią statistiką - kiek žodžių turi straipsniai? \n",
    "# Koks vidutinis žodžių kiekis? Kiek yra straipsnių, kurių žodžių kiekis yra mažesnis, didesnis už vidurkį? Kokia žodžių kiekio mediana?\n",
    "https://stackoverflow.com/questions/69216352/how-to-extract-text-from-specific-spans-using-beautifulsoup"
   ]
  },
  {
   "cell_type": "code",
   "execution_count": null,
   "metadata": {},
   "outputs": [],
   "source": [
    "sarasas = pd.read_csv('20240419_darbai.csv', sep=';')\n",
    "sarasas.head()\n",
    "sarasas['zodziuKiekis'] = sarasas['Pavadinimas'].str.split().str.len()\n",
    "sarasas.head()\n",
    "sarasas['simboliuKiekis'] = sarasas['Pavadinimas'].str.len()\n",
    "sarasas.head()\n",
    "vidZod = sarasas['zodziuKiekis'].mean()\n",
    "print(vidZod)\n",
    "ZK = sarasas.groupby('zodziuKiekis').count().reset_index()[['zodziuKiekis','Pavadinimas']]\n",
    "sns.barplot(data=ZK, x='zodziuKiekis', y='Pavadinimas')"
   ]
  },
  {
   "cell_type": "code",
   "execution_count": null,
   "metadata": {},
   "outputs": [],
   "source": [
    "#kas atliko šią užduotį: turit likus į kiekvieną straipsnį konkrečiai. \n",
    "# Surinkite tokią statistiką - kiek žodžių turi straipsniai? \n",
    "# Koks vidutinis žodžių kiekis? \n",
    "# Kiek yra straipsnių, kurių žodžių kiekis yra mažesnis, didesnis už vidurkį? \n",
    "# Kokia žodžių kiekio mediana?"
   ]
  },
  {
   "cell_type": "code",
   "execution_count": 9,
   "metadata": {},
   "outputs": [
    {
     "data": {
      "text/html": [
       "<div>\n",
       "<style scoped>\n",
       "    .dataframe tbody tr th:only-of-type {\n",
       "        vertical-align: middle;\n",
       "    }\n",
       "\n",
       "    .dataframe tbody tr th {\n",
       "        vertical-align: top;\n",
       "    }\n",
       "\n",
       "    .dataframe thead th {\n",
       "        text-align: right;\n",
       "    }\n",
       "</style>\n",
       "<table border=\"1\" class=\"dataframe\">\n",
       "  <thead>\n",
       "    <tr style=\"text-align: right;\">\n",
       "      <th></th>\n",
       "      <th>Unnamed: 0</th>\n",
       "      <th>Adresas</th>\n",
       "      <th>Kaina</th>\n",
       "      <th>Kaina_už_m²</th>\n",
       "      <th>Plotas</th>\n",
       "      <th>Kambarių_skaičius</th>\n",
       "    </tr>\n",
       "  </thead>\n",
       "  <tbody>\n",
       "  </tbody>\n",
       "</table>\n",
       "</div>"
      ],
      "text/plain": [
       "Empty DataFrame\n",
       "Columns: [Unnamed: 0, Adresas, Kaina, Kaina_už_m², Plotas, Kambarių_skaičius]\n",
       "Index: []"
      ]
     },
     "execution_count": 9,
     "metadata": {},
     "output_type": "execute_result"
    }
   ],
   "source": [
    "#surinkite iš puslapių nuo 2 iki 11-to butų skelbimus ir tokią informaciją - kaina, kaina už 1 kv metrą, adresas, plotas, \n",
    "# kambarių kiekis. \n",
    "# šiuos duomenis eksportuokite į csv failą, skirtukas turi būti ;.\n",
    "#suraskite, kiek iš atrinktų butų buvo pagal kainą pigūs, brangūs, neįperkami. Kriterijus - 1 kv metro kaina iki 1 VDu - pigūs, iki 3 VDU - brangūs, daugiau nei 3 VDU - neįperkami.\n",
    "#pavaizduokite su boxplotais kainų už 1 kv pasiskirstymą nuo kambarių skaičiaus.\n",
    "#Pavaizduokiet tokią informaciją: atrinktų butų kainų pasiskirstymą tarp miestų.\n",
    "#pavaizduokite tokią informaciją - kiek buvo sklebimų per skirtingus miestus jūsų atrankoje?\n",
    "\n",
    "sarasas = pd.read_csv('20240422VisiSkelbimai.csv', sep=';')\n",
    "sarasas.head(5)"
   ]
  },
  {
   "cell_type": "code",
   "execution_count": 26,
   "metadata": {},
   "outputs": [
    {
     "name": "stdout",
     "output_type": "stream",
     "text": [
      "c:\\Users\\rezav\\OneDrive\\Stalinis kompiuteris\\Duomenų mokslas\\JupyterNotebooksR\n"
     ]
    }
   ],
   "source": [
    "#standartiniai moduliai\n",
    "import numpy as np\n",
    "import numpy.polynomial.polynomial as poly\n",
    "import pandas as pd\n",
    "import matplotlib.pyplot as plt\n",
    "import matplotlib as mpl\n",
    "from datetime import datetime\n",
    "from dateutil import parser\n",
    "# import mysql.connector as cnt\n",
    "#import panel as pn\n",
    "#pn.extension()\n",
    "import seaborn as sns\n",
    "import os, sys\n",
    "print(os.getcwd())\n",
    "fontsize=16 #for all entries\n",
    "titlesize=24\n",
    "labelsize=16\n",
    "fwidth=6\n",
    "fheight=4"
   ]
  },
  {
   "cell_type": "code",
   "execution_count": 30,
   "metadata": {},
   "outputs": [
    {
     "data": {
      "text/html": [
       "<div>\n",
       "<style scoped>\n",
       "    .dataframe tbody tr th:only-of-type {\n",
       "        vertical-align: middle;\n",
       "    }\n",
       "\n",
       "    .dataframe tbody tr th {\n",
       "        vertical-align: top;\n",
       "    }\n",
       "\n",
       "    .dataframe thead th {\n",
       "        text-align: right;\n",
       "    }\n",
       "</style>\n",
       "<table border=\"1\" class=\"dataframe\">\n",
       "  <thead>\n",
       "    <tr style=\"text-align: right;\">\n",
       "      <th></th>\n",
       "      <th>Unnamed: 0</th>\n",
       "      <th>Adresas</th>\n",
       "      <th>Kaina</th>\n",
       "      <th>Kaina_uz_m2</th>\n",
       "      <th>Plotas</th>\n",
       "      <th>Kambariu_skaicius</th>\n",
       "    </tr>\n",
       "  </thead>\n",
       "  <tbody>\n",
       "    <tr>\n",
       "      <th>0</th>\n",
       "      <td>0</td>\n",
       "      <td>Palanga, A. Mickevičiaus g.</td>\n",
       "      <td>268000</td>\n",
       "      <td>7657</td>\n",
       "      <td>35</td>\n",
       "      <td>2</td>\n",
       "    </tr>\n",
       "    <tr>\n",
       "      <th>1</th>\n",
       "      <td>1</td>\n",
       "      <td>Palanga, A. Mickevičiaus g.</td>\n",
       "      <td>329900</td>\n",
       "      <td>7331</td>\n",
       "      <td>45</td>\n",
       "      <td>3</td>\n",
       "    </tr>\n",
       "    <tr>\n",
       "      <th>2</th>\n",
       "      <td>2</td>\n",
       "      <td>Palanga, S. Daukanto g.</td>\n",
       "      <td>435000</td>\n",
       "      <td>5959</td>\n",
       "      <td>73</td>\n",
       "      <td>4</td>\n",
       "    </tr>\n",
       "    <tr>\n",
       "      <th>3</th>\n",
       "      <td>3</td>\n",
       "      <td>Palanga, S. Daukanto g.</td>\n",
       "      <td>312000</td>\n",
       "      <td>6933</td>\n",
       "      <td>45</td>\n",
       "      <td>3</td>\n",
       "    </tr>\n",
       "    <tr>\n",
       "      <th>4</th>\n",
       "      <td>4</td>\n",
       "      <td>Palanga, Palanga, Saulėlydžio g.</td>\n",
       "      <td>179000</td>\n",
       "      <td>2183</td>\n",
       "      <td>82</td>\n",
       "      <td>3</td>\n",
       "    </tr>\n",
       "  </tbody>\n",
       "</table>\n",
       "</div>"
      ],
      "text/plain": [
       "   Unnamed: 0                           Adresas   Kaina  Kaina_uz_m2  Plotas  \\\n",
       "0           0       Palanga, A. Mickevičiaus g.  268000         7657      35   \n",
       "1           1       Palanga, A. Mickevičiaus g.  329900         7331      45   \n",
       "2           2           Palanga, S. Daukanto g.  435000         5959      73   \n",
       "3           3           Palanga, S. Daukanto g.  312000         6933      45   \n",
       "4           4  Palanga, Palanga, Saulėlydžio g.  179000         2183      82   \n",
       "\n",
       "   Kambariu_skaicius  \n",
       "0                  2  \n",
       "1                  3  \n",
       "2                  4  \n",
       "3                  3  \n",
       "4                  3  "
      ]
     },
     "execution_count": 30,
     "metadata": {},
     "output_type": "execute_result"
    }
   ],
   "source": [
    "#surinkite iš puslapių nuo 2 iki 11-to butų skelbimus ir tokią informaciją - kaina, kaina už 1 kv metrą, adresas, plotas, \n",
    "# kambarių kiekis. \n",
    "# šiuos duomenis eksportuokite į csv failą, skirtukas turi būti ;.\n",
    "\n",
    "visiButai = pd.read_csv('20240423AruodasVisiSkelbimai.csv', sep=';')\n",
    "visiButai.head()"
   ]
  },
  {
   "cell_type": "code",
   "execution_count": 50,
   "metadata": {},
   "outputs": [
    {
     "data": {
      "text/html": [
       "<div>\n",
       "<style scoped>\n",
       "    .dataframe tbody tr th:only-of-type {\n",
       "        vertical-align: middle;\n",
       "    }\n",
       "\n",
       "    .dataframe tbody tr th {\n",
       "        vertical-align: top;\n",
       "    }\n",
       "\n",
       "    .dataframe thead th {\n",
       "        text-align: right;\n",
       "    }\n",
       "</style>\n",
       "<table border=\"1\" class=\"dataframe\">\n",
       "  <thead>\n",
       "    <tr style=\"text-align: right;\">\n",
       "      <th></th>\n",
       "      <th>Unnamed: 0</th>\n",
       "      <th>Adresas</th>\n",
       "      <th>Kaina</th>\n",
       "      <th>Kaina_uz_m2</th>\n",
       "      <th>Plotas</th>\n",
       "      <th>Kambariu_skaicius</th>\n",
       "      <th>Kainu_kategorijos</th>\n",
       "    </tr>\n",
       "  </thead>\n",
       "  <tbody>\n",
       "    <tr>\n",
       "      <th>0</th>\n",
       "      <td>0</td>\n",
       "      <td>Palanga, A. Mickevičiaus g.</td>\n",
       "      <td>268000</td>\n",
       "      <td>7657</td>\n",
       "      <td>35</td>\n",
       "      <td>2</td>\n",
       "      <td>neiperkamas</td>\n",
       "    </tr>\n",
       "    <tr>\n",
       "      <th>1</th>\n",
       "      <td>1</td>\n",
       "      <td>Palanga, A. Mickevičiaus g.</td>\n",
       "      <td>329900</td>\n",
       "      <td>7331</td>\n",
       "      <td>45</td>\n",
       "      <td>3</td>\n",
       "      <td>neiperkamas</td>\n",
       "    </tr>\n",
       "    <tr>\n",
       "      <th>2</th>\n",
       "      <td>2</td>\n",
       "      <td>Palanga, S. Daukanto g.</td>\n",
       "      <td>435000</td>\n",
       "      <td>5959</td>\n",
       "      <td>73</td>\n",
       "      <td>4</td>\n",
       "      <td>neiperkamas</td>\n",
       "    </tr>\n",
       "    <tr>\n",
       "      <th>3</th>\n",
       "      <td>3</td>\n",
       "      <td>Palanga, S. Daukanto g.</td>\n",
       "      <td>312000</td>\n",
       "      <td>6933</td>\n",
       "      <td>45</td>\n",
       "      <td>3</td>\n",
       "      <td>neiperkamas</td>\n",
       "    </tr>\n",
       "    <tr>\n",
       "      <th>4</th>\n",
       "      <td>4</td>\n",
       "      <td>Palanga, Palanga, Saulėlydžio g.</td>\n",
       "      <td>179000</td>\n",
       "      <td>2183</td>\n",
       "      <td>82</td>\n",
       "      <td>3</td>\n",
       "      <td>brangus</td>\n",
       "    </tr>\n",
       "  </tbody>\n",
       "</table>\n",
       "</div>"
      ],
      "text/plain": [
       "   Unnamed: 0                           Adresas   Kaina  Kaina_uz_m2  Plotas  \\\n",
       "0           0       Palanga, A. Mickevičiaus g.  268000         7657      35   \n",
       "1           1       Palanga, A. Mickevičiaus g.  329900         7331      45   \n",
       "2           2           Palanga, S. Daukanto g.  435000         5959      73   \n",
       "3           3           Palanga, S. Daukanto g.  312000         6933      45   \n",
       "4           4  Palanga, Palanga, Saulėlydžio g.  179000         2183      82   \n",
       "\n",
       "   Kambariu_skaicius Kainu_kategorijos  \n",
       "0                  2       neiperkamas  \n",
       "1                  3       neiperkamas  \n",
       "2                  4       neiperkamas  \n",
       "3                  3       neiperkamas  \n",
       "4                  3           brangus  "
      ]
     },
     "execution_count": 50,
     "metadata": {},
     "output_type": "execute_result"
    }
   ],
   "source": [
    "#suraskite, kiek iš atrinktų butų buvo pagal kainą pigūs, brangūs, neįperkami. \n",
    "# Kriterijus - 1 kv metro kaina iki 1 VDu - pigūs, iki 3 VDU - brangūs, daugiau nei 3 VDU - neįperkami.\n",
    "\n",
    "def kainosKategorija(Kaina_uz_m2):\n",
    "    vdu = 1902\n",
    "    if Kaina_uz_m2 < vdu:\n",
    "        return 'pigus'\n",
    "    elif Kaina_uz_m2 < 3*vdu:\n",
    "        return 'brangus'\n",
    "    else:\n",
    "        return 'neiperkamas'\n",
    "\n",
    "visiButai['Kainu_kategorijos'] = visiButai['Kaina_uz_m2'].apply(kainosKategorija)\n",
    "visiButai.head(5)\n"
   ]
  },
  {
   "cell_type": "code",
   "execution_count": 51,
   "metadata": {},
   "outputs": [
    {
     "data": {
      "text/plain": [
       "Kainu_kategorijos\n",
       "brangus        70\n",
       "neiperkamas    13\n",
       "pigus           8\n",
       "Name: count, dtype: int64"
      ]
     },
     "execution_count": 51,
     "metadata": {},
     "output_type": "execute_result"
    }
   ],
   "source": [
    "GrKainu_kategorijos = visiButai.groupby('Kainu_kategorijos')['Kainu_kategorijos'].value_counts()\n",
    "GrKainu_kategorijos\n"
   ]
  },
  {
   "cell_type": "code",
   "execution_count": 49,
   "metadata": {},
   "outputs": [
    {
     "data": {
      "image/png": "[encoded data removed]",
      "text/plain": [
       "<Figure size 640x480 with 1 Axes>"
      ]
     },
     "metadata": {},
     "output_type": "display_data"
    }
   ],
   "source": [
    "#pavaizduokite su boxplotais kainų už 1 kv pasiskirstymą nuo kambarių skaičiaus.\n",
    "\n",
    "sns.boxplot(data=visiButai.sort_values(by='Kambariu_skaicius'), x='Kambariu_skaicius', y='Kaina_uz_m2', showmeans=True, showfliers=False)\n",
    "\n",
    "plt.xticks(rotation=90)\n",
    "plt.ylim(visiButai['Kaina_uz_m2'].min(), 8000)\n",
    "plt.xlabel('Kambariu skaicius')\n",
    "plt.ylabel('Kaina uz m2')\n",
    "plt.title('Kainu uz m2 pasiskirstymas pagal kambariu skaiciu')\n",
    "# Atvaizduojame grafiką\n",
    "plt.show()"
   ]
  },
  {
   "cell_type": "code",
   "execution_count": 54,
   "metadata": {},
   "outputs": [
    {
     "data": {
      "image/png": "[encoded data removed]",
      "text/plain": [
       "<Figure size 640x480 with 1 Axes>"
      ]
     },
     "metadata": {},
     "output_type": "display_data"
    }
   ],
   "source": [
    "#Pavaizduokiet tokią informaciją: atrinktų butų kainų pasiskirstymą tarp miestų.\n",
    "\n",
    "def miestoAtrinkimas(adresas):\n",
    "    return adresas.split(', ')[0]\n",
    "\n",
    "visiButai['Miestas'] = visiButai['Adresas'].apply(miestoAtrinkimas)\n",
    "\n",
    "sns.boxplot(data=visiButai.sort_values(by='Miestas'), x='Miestas', y='Kaina_uz_m2', showmeans=True, showfliers=False)\n",
    "\n",
    "plt.xticks(rotation=90)\n",
    "plt.ylim(visiButai['Kaina_uz_m2'].min(), 8000)\n",
    "plt.xlabel('Miestas')\n",
    "plt.ylabel('Kaina uz m2')\n",
    "plt.title('Kainu uz m2 pasiskirstymas pagal miestus')\n",
    "# Atvaizduojame grafiką\n",
    "plt.show()\n"
   ]
  },
  {
   "cell_type": "code",
   "execution_count": 61,
   "metadata": {},
   "outputs": [
    {
     "data": {
      "text/plain": [
       "Miestas\n",
       "Vilnius            48\n",
       "Palanga            16\n",
       "Kaunas             11\n",
       "Klaipėda            9\n",
       "Akmenės r. sav.     2\n",
       "Kauno r. sav.       2\n",
       "Alytus              1\n",
       "Kelmės m.           1\n",
       "Šiauliai            1\n",
       "Name: count, dtype: int64"
      ]
     },
     "execution_count": 61,
     "metadata": {},
     "output_type": "execute_result"
    }
   ],
   "source": [
    "#pavaizduokite tokią informaciją - kiek buvo sklebimų per skirtingus miestus jūsų atrankoje?\n",
    "\n",
    "GrMiestas = visiButai.groupby('Miestas')['Miestas'].value_counts().sort_values(ascending=False)\n",
    "GrMiestas"
   ]
  },
  {
   "cell_type": "code",
   "execution_count": 77,
   "metadata": {},
   "outputs": [
    {
     "data": {
      "image/png": "[encoded data removed]",
      "text/plain": [
       "<Figure size 640x480 with 1 Axes>"
      ]
     },
     "metadata": {},
     "output_type": "display_data"
    }
   ],
   "source": [
    "plt.figure()\n",
    "plt.pie(GrMiestas.values, labels=GrMiestas.index)\n",
    "plt.title('Skelbimu skaicius pagal miesta')\n",
    "plt.show()"
   ]
  },
  {
   "cell_type": "code",
   "execution_count": 74,
   "metadata": {},
   "outputs": [],
   "source": [
    "\n"
   ]
  }
 ],
 "metadata": {
  "kernelspec": {
   "display_name": "Python 3",
   "language": "python",
   "name": "python3"
  },
  "language_info": {
   "codemirror_mode": {
    "name": "ipython",
    "version": 3
   },
   "file_extension": ".py",
   "mimetype": "text/x-python",
   "name": "python",
   "nbconvert_exporter": "python",
   "pygments_lexer": "ipython3",
   "version": "3.12.3"
  }
 },
 "nbformat": 4,
 "nbformat_minor": 2
}
