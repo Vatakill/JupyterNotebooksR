{
 "cells": [
  {
   "cell_type": "code",
   "execution_count": null,
   "metadata": {},
   "outputs": [],
   "source": [
    "print('Testas')"
   ]
  },
  {
   "cell_type": "code",
   "execution_count": 11,
   "metadata": {},
   "outputs": [],
   "source": [
    "# klasės \n",
    "Name = 'Petras'\n",
    "class Asmuo():\n",
    "    def __init__(self):\n",
    "        print('as ka tik atsiradau')\n",
    "        self.Name = 'Jonas'\n",
    "        pass\n",
    "    \n",
    "    def printName(self):\n",
    "        print(Name)\n",
    "        print(self.Name)"
   ]
  },
  {
   "cell_type": "code",
   "execution_count": 37,
   "metadata": {},
   "outputs": [],
   "source": [
    "Name = 'Petras'\n",
    "class Asmuo():\n",
    "    def __init__(self, name):\n",
    "        self.Name = name\n",
    "        pass\n",
    "    \n",
    "    def getName(self):\n",
    "        return self.Name\n",
    "\n",
    "    def setName(self, new_name):\n",
    "        self.Name = new_name"
   ]
  },
  {
   "cell_type": "code",
   "execution_count": 36,
   "metadata": {},
   "outputs": [],
   "source": [
    "a1 = Asmuo('Jonas')"
   ]
  },
  {
   "cell_type": "code",
   "execution_count": 38,
   "metadata": {},
   "outputs": [
    {
     "name": "stdout",
     "output_type": "stream",
     "text": [
      "Jonas\n",
      "Vardas\n"
     ]
    }
   ],
   "source": [
    "print(a1.getName())\n",
    "a1.setName('Vardas')\n",
    "print(a1.getName())"
   ]
  },
  {
   "cell_type": "code",
   "execution_count": 47,
   "metadata": {},
   "outputs": [],
   "source": [
    "def calculateAge():\n",
    "    return 'Cha'\n",
    "\n",
    "class Asmuo():\n",
    "    def __init__(self, name, gm):\n",
    "        self.Name = name\n",
    "        self.BYear = gm\n",
    "        self.Age = self.calculateAge()\n",
    "        pass\n",
    "    \n",
    "    def getName(self):\n",
    "        return self.Name\n",
    "\n",
    "    def setName(self, new_name):\n",
    "        self.Name = new_name\n",
    "\n",
    "    def calculateAge(self):\n",
    "        return 2024 - self.BYear"
   ]
  },
  {
   "cell_type": "code",
   "execution_count": 46,
   "metadata": {},
   "outputs": [
    {
     "name": "stdout",
     "output_type": "stream",
     "text": [
      "28 Vardas\n"
     ]
    }
   ],
   "source": [
    "a1 = Asmuo('Vardas', 1996)\n",
    "print(a1.Age, a1.getName())"
   ]
  },
  {
   "cell_type": "code",
   "execution_count": 52,
   "metadata": {},
   "outputs": [],
   "source": [
    "# paveldėjimas\n",
    "\n",
    "class Studentas(Asmuo):\n",
    "    def getStatus(self):\n",
    "        return 'Studentas'"
   ]
  },
  {
   "cell_type": "code",
   "execution_count": 53,
   "metadata": {},
   "outputs": [
    {
     "name": "stdout",
     "output_type": "stream",
     "text": [
      "32 Urte\n"
     ]
    }
   ],
   "source": [
    "std1 = Studentas('Urte', 1992)\n",
    "print(std1.Age, std1.getName())"
   ]
  },
  {
   "cell_type": "code",
   "execution_count": null,
   "metadata": {},
   "outputs": [],
   "source": [
    "std1.getStatus()"
   ]
  },
  {
   "cell_type": "code",
   "execution_count": 58,
   "metadata": {},
   "outputs": [],
   "source": [
    "#  sudėtingesnis paveldėjimas\n",
    "class Studentas(Asmuo):\n",
    "    def __init__(self, name, gm):\n",
    "        super().__init__(name, gm)\n",
    "        self.Entroll = True\n",
    "\n",
    "std1 = Studentas('Urte', 1998)"
   ]
  },
  {
   "cell_type": "code",
   "execution_count": 60,
   "metadata": {},
   "outputs": [
    {
     "name": "stdout",
     "output_type": "stream",
     "text": [
      "26 True\n"
     ]
    }
   ],
   "source": [
    "print(std1.Age, std1.Entroll)"
   ]
  },
  {
   "cell_type": "code",
   "execution_count": 69,
   "metadata": {},
   "outputs": [
    {
     "name": "stdout",
     "output_type": "stream",
     "text": [
      "64\n"
     ]
    }
   ],
   "source": [
    "# aprašyti klasę Kvadratas\n",
    "# kreipiantis į klasę reikia nurodyti kvadrato ilgį a.\n",
    "# Klasė  turi turėti savo atributą Plotas, kurį turi suskaičiuoti klasės kūrimo metu.\n",
    "# Plotas = a*a\n",
    "# apskaičiuoti Plotas atributo reikšmę.\n",
    "\n",
    "class Kvadratas():\n",
    "    def __init__(self, a):\n",
    "        self.a = a\n",
    "        self.Plotas = a * a\n",
    "    def plotas(self):\n",
    "        return self.Plotas\n",
    "kvadratu = Kvadratas(8)\n",
    "\n",
    "print(kvadratu.plotas())\n",
    "\n"
   ]
  },
  {
   "cell_type": "code",
   "execution_count": 73,
   "metadata": {},
   "outputs": [],
   "source": [
    "del kvadratu"
   ]
  },
  {
   "cell_type": "code",
   "execution_count": 75,
   "metadata": {},
   "outputs": [
    {
     "name": "stdout",
     "output_type": "stream",
     "text": [
      "64\n",
      "32\n"
     ]
    }
   ],
   "source": [
    "class Kvadratas():\n",
    "    def __init__(self, a):\n",
    "        self.a = a\n",
    "        self.Plotas = a * a\n",
    "        self.Perimetras = a * 4\n",
    "    def plotas(self):\n",
    "        return self.Plotas\n",
    "    def perimetras(self):\n",
    "        return self.Perimetras\n",
    "    \n",
    "\n",
    "kvadratu = Kvadratas(8)\n",
    "\n",
    "print(kvadratu.plotas())\n",
    "print(kvadratu.perimetras())"
   ]
  },
  {
   "cell_type": "code",
   "execution_count": 77,
   "metadata": {},
   "outputs": [
    {
     "name": "stdout",
     "output_type": "stream",
     "text": [
      "20\n",
      "18\n"
     ]
    }
   ],
   "source": [
    "# aprašykite klasę Rectangle\n",
    "# kreipiantis į klasę, reikia nurodyti stačiakampio\n",
    "# kraštines a ir b.\n",
    "# Realizuokite atributą Plotas = a*b\n",
    "# ir metodą, grąžinantį Ploto reikšmę\n",
    "# Taip pat pridėkite metodą, apskaičiuojantį ir grąžinantį\n",
    "# perimetrą P=2(a+b)\n",
    "\n",
    "class Rectangle():\n",
    "    def __init__(self, a, b):\n",
    "        self.a = a\n",
    "        self.b = b\n",
    "        self.Plotas = a*b\n",
    "        self.Perimetras = (a+b)*2\n",
    "    def plotas(self):\n",
    "        return self.Plotas\n",
    "    def perimetras(self):\n",
    "        return self.Perimetras\n",
    "    \n",
    "staciakampis = Rectangle(5,4)\n",
    "\n",
    "print(staciakampis.plotas())\n",
    "print(staciakampis.perimetras())\n"
   ]
  },
  {
   "cell_type": "code",
   "execution_count": 79,
   "metadata": {},
   "outputs": [
    {
     "name": "stdout",
     "output_type": "stream",
     "text": [
      "20\n"
     ]
    }
   ],
   "source": [
    "class Rectangle():\n",
    "    def __init__(self, a, b):\n",
    "        self.a = a\n",
    "        self.b = b\n",
    "    def plotas(self):\n",
    "        return self.a*self.b\n",
    "   \n",
    "staciakampis = Rectangle(5,4)\n",
    "\n",
    "print(staciakampis.plotas())"
   ]
  },
  {
   "cell_type": "code",
   "execution_count": 87,
   "metadata": {},
   "outputs": [
    {
     "name": "stdout",
     "output_type": "stream",
     "text": [
      "Lietuva, Tėvyne mūsų\n",
      "Tu didvyrių žeme,\n",
      "Iš praeities Tavo sūnūs\n",
      "Te stiprybę semia.\n",
      "\n",
      "Tegul Tavo vaikai eina\n",
      "Vien takais dorybės\n",
      "Tegul dirba Tavo naudai\n",
      "Ir žmonių gėrybei.\n",
      "\n",
      "Tegul saulė Lietuvoj\n",
      "Tamsumas prašalina,\n",
      "Ir šviesa, ir tiesa\n",
      "Mūs žingsnius telydi.\n",
      "\n",
      "Tegul meilė Lietuvos\n",
      "Dega mūsų širdyse,\n",
      "Vardan tos Lietuvos\n",
      "Vienybė težydi! \n"
     ]
    }
   ],
   "source": [
    "#susikurkite su Notepadu tekstinį failą su bet kokiu tekstu\n",
    "#parašykite klasę TxtReader, kuriai kreipimosimetu būtų nurodomas tekstinio failo pavadinimas;\n",
    "#klasės sukūrimo metu tas tekstinis failas turi būti nuskaitomas\n",
    "#ir nuskaitytas tekstas turi būti priskirtas atributui Text\n",
    "#parašykite metodą getText(), kuri grąžintų atributo text reikšmę\n",
    "\n",
    "# Note20240405.txt\n",
    "\n",
    "class TxtReader():\n",
    "    def __init__(self, fileName):\n",
    "        self.fileName = fileName\n",
    "        \n",
    "        file_r = open (self.fileName, mode ='r', encoding = 'utf-8')\n",
    "        self.Text = file_r.read()\n",
    "        file_r.close()\n",
    "\n",
    "    def getText(self):\n",
    "        return self.Text\n",
    "\n",
    "Tekstas = TxtReader('../mano darbai/Note.txt')\n",
    "\n",
    "print(Tekstas.getText())\n"
   ]
  },
  {
   "cell_type": "code",
   "execution_count": null,
   "metadata": {},
   "outputs": [],
   "source": [
    "#parašykite klasę TxtAnalyzer, kuriai kreipimosi metu galima būtų nurodyti failo pavadinimą ir stulpelių skirtuką.\n",
    "#klasė sukūrimo metu turi nuskaityti failą, stulpelius skaičių suskirstyti į sąrašus ir juos priskirti atributams X, Y ir Z.\n",
    "#Realizuokite metodus, kurie grąžintų X, Y, Z sąrašų vidurkius, minimalias ir maksimalias vertes. Pythone yra min, max, sum funkcijos;\n",
    "\n",
    "class TxtAnalyzer():\n",
    "    def __init__(self, failo_pavadinimas, skirtukas):\n",
    "        self.fileName = failo_pavadinimas\n",
    "        \n",
    "        file_r = open (self.fileName, mode ='r', encoding = 'utf-8')\n",
    "        self.Text = file_r.read()\n",
    "        file_r.close()\n",
    "\n",
    "        "
   ]
  },
  {
   "cell_type": "code",
   "execution_count": 101,
   "metadata": {},
   "outputs": [
    {
     "name": "stdout",
     "output_type": "stream",
     "text": [
      "523.3333333333334\n",
      "314.0\n",
      "4186.666666666667\n",
      "1256.0\n"
     ]
    }
   ],
   "source": [
    "#Sukurkite klasę Rutulys\n",
    "#kuriai galėtumėte nurodyti Rutulio spindulį r.\n",
    "#Sukurkite metodus, skirtus rasti jo Tūriui ir paviršiaus plotui;\n",
    "#Taip pat metodą, kuriuo jūs pakeistumėte spindulio r reikšmę.\n",
    "\n",
    "\n",
    "\n",
    "class Rutulys():\n",
    "  def __init__(self, r):\n",
    "    self.r = r\n",
    "\n",
    "  def turis(self):\n",
    "    return 4 / 3 * 3.14 * self.r**3\n",
    "  def plotas(self):\n",
    "    return 4*3.14* self.r**2\n",
    "  def changer(self, new_r):\n",
    "    self.r = new_r\n",
    "\n",
    "\n",
    "r = float(input('iveskite spinduli'))\n",
    "rutulys  = Rutulys(r)\n",
    "print(rutulys.turis())\n",
    "print(rutulys.plotas())\n",
    "\n",
    "\n",
    "r = float(input('iveskite spinduli'))\n",
    "rutulys.changer(r)\n",
    "\n",
    "print(rutulys.turis())\n",
    "print(rutulys.plotas())"
   ]
  },
  {
   "cell_type": "code",
   "execution_count": 109,
   "metadata": {},
   "outputs": [
    {
     "name": "stdout",
     "output_type": "stream",
     "text": [
      "157.0\n",
      "31.400000000000002\n",
      "628.0\n",
      "62.800000000000004\n"
     ]
    }
   ],
   "source": [
    "#Parašykite klasę Apskritimas, kuriai glite nurodyti apskritimo spindulį r.\n",
    "# realizuokite du metodus getS ir getP, plotui ir perimetrui gražinti. \n",
    "\n",
    "class Apskritimas():\n",
    "    def __init__(self, r):\n",
    "        self.r = r\n",
    "    def getS(self):\n",
    "        return 2*3.14*self.r**2\n",
    "    def getP (self):\n",
    "        return 2*3.14*self.r\n",
    "    def change (self, new_r):\n",
    "        self.r = new_r\n",
    "    \n",
    "aps = Apskritimas(5)\n",
    "print(aps.getS())\n",
    "print(aps.getP())\n",
    "\n",
    "aps.change(10)\n",
    "print(aps.getS())\n",
    "print(aps.getP())"
   ]
  },
  {
   "cell_type": "code",
   "execution_count": 111,
   "metadata": {},
   "outputs": [
    {
     "name": "stdout",
     "output_type": "stream",
     "text": [
      "157.0\n",
      "31.400000000000002\n",
      "628.0\n",
      "62.800000000000004\n"
     ]
    }
   ],
   "source": [
    "#advanced Apskritimas:\n",
    "#padarykite taip, jog klasė Apskritimas turėtų atributus S ir P, plotui ir perimetrui, \n",
    "# ir kad atnaujinus spindulį r, automatiškai pasikeistų S ir P atributų reikšmės, o getS, \n",
    "# getP metodai, kaip ir anksčiau grąžintų S ir P atributų reikšmes.\n",
    "\n",
    "class Apskritimas():\n",
    "    def __init__(self, r):\n",
    "        self.r = r\n",
    "        self.S = 2*3.14*r**2\n",
    "        self.P = 2*3.14*r\n",
    "        \n",
    "    def getS(self):\n",
    "        return self.S\n",
    "    \n",
    "    def getP (self):\n",
    "        return self.P\n",
    "    \n",
    "    def change (self, new_r):\n",
    "        self.r = new_r\n",
    "        self.S = 2*3.14*new_r**2\n",
    "        self.P = 2*3.14*new_r\n",
    "    \n",
    "aps = Apskritimas(5)\n",
    "print(aps.getS())\n",
    "print(aps.getP())\n",
    "\n",
    "aps.change(10)\n",
    "print(aps.getS())\n",
    "print(aps.getP())\n"
   ]
  },
  {
   "cell_type": "code",
   "execution_count": 112,
   "metadata": {},
   "outputs": [
    {
     "name": "stdout",
     "output_type": "stream",
     "text": [
      "31.400000000000002 78.5\n",
      "62.800000000000004 314.0\n"
     ]
    }
   ],
   "source": [
    "class Apskritimas():\n",
    "    def __init__(self, r):\n",
    "        self.R = r\n",
    "        self.S = 0\n",
    "        self.P = 0\n",
    "        self.upadeAll()\n",
    "    \n",
    "    def getP(self):\n",
    "        return self.P\n",
    "    \n",
    "    def getS(self):\n",
    "        return self.S\n",
    "    \n",
    "    def upadeAll(self):\n",
    "        self.S = 3.14*self.R**2\n",
    "        self.P = 2*3.14*self.R\n",
    "        \n",
    "    def change(self, new_r):\n",
    "        self.R = new_r\n",
    "        self.upadeAll()\n",
    "\n",
    "a = Apskritimas(5)\n",
    "print(a.getP(), a.getS())\n",
    "a.change(10)\n",
    "print(a.getP(), a.getS())"
   ]
  },
  {
   "cell_type": "code",
   "execution_count": 116,
   "metadata": {},
   "outputs": [
    {
     "name": "stdout",
     "output_type": "stream",
     "text": [
      "18 20\n",
      "16.0\n"
     ]
    }
   ],
   "source": [
    "#užduotis su paveldjimu:\n",
    "#parašykite klasę Rectangle, kurioje būtų ilgio ir pločio atributai, bei du metodai - getS - plotui ir getP -erimetrui rasti\n",
    "#Sukurkite išvestinę (child) klasę Kubas, kuri papildomai turėtų Tūrio skaičiavimo metodą\n",
    "#• Klasę Piramidė - išvestinė klasė (child class). Pridėkite\n",
    "# papildomą funkcionalumą - metodą, argumentus piramidės tūrio skaičiavimui.\n",
    "\n",
    "class Rectangle():\n",
    "    def __init__(self, ilgis, plotis):\n",
    "        self.a = ilgis\n",
    "        self.b = plotis\n",
    "        self.S = ilgis * plotis\n",
    "        self.P = (ilgis + plotis)*2\n",
    "\n",
    "    def getS(self):\n",
    "        return self.S\n",
    "    \n",
    "    def getP(self):\n",
    "        return self.P\n",
    "\n",
    "stk = Rectangle(5, 4)\n",
    "print(stk.getP(), stk.getS())  \n",
    "\n",
    "\n",
    "class Piramide(Rectangle):\n",
    "    def __init__(self, ilgis, plotis, aukstis):\n",
    "        super().__init__(ilgis, plotis)\n",
    "        self.h = aukstis\n",
    "    def turis(self):\n",
    "        tur = 1/3*self.S*self.h \n",
    "        return tur\n",
    "    \n",
    "figura = Piramide(2, 4, 6)\n",
    "print(figura.turis())"
   ]
  },
  {
   "cell_type": "code",
   "execution_count": null,
   "metadata": {},
   "outputs": [],
   "source": [
    "class Kubas(Rectangle):\n",
    "    def __init__(self, aukstis)\n",
    "        self.c = aukstis\n",
    "        self.T = stk * aukstis\n",
    "    def getT(self):\n",
    "        return self.T\n",
    "\n",
    " = Rectangle(5, 4)\n"
   ]
  },
  {
   "cell_type": "code",
   "execution_count": 4,
   "metadata": {},
   "outputs": [
    {
     "name": "stdout",
     "output_type": "stream",
     "text": [
      "Plotas: \n",
      "50\n",
      "Perimetras: \n",
      "30\n",
      "Piramides turis:  10.0\n",
      "Kubo turis:  30\n"
     ]
    }
   ],
   "source": [
    "class Rectangle():\n",
    "    def __init__(self, a, b): \n",
    "        self.S = a * b\n",
    "        self.P = 2*(a + b)\n",
    "\n",
    "    def getP(self):      \n",
    "        return self.P\n",
    "\n",
    "    def getS(self):      \n",
    "        return self.S\n",
    "\n",
    "figura = Rectangle(a=10, b=5)\n",
    "\n",
    "print(\"Plotas: \", figura.getS(), \"Perimetras: \",figura.getP(), sep = \"\\n\")\n",
    " \n",
    "class Piramide(Rectangle):\n",
    "\n",
    "    def __init__ (self, a, b, h):\n",
    "        super().__init__(a, b) # cia atkeliavo is Rectangle funkcijos, 9 eilute\n",
    "        self.h = h\n",
    "\n",
    "    def get_piramides_turis(self):\n",
    "        Turis = 1/3*self.S*self.h\n",
    "        return Turis\n",
    "\n",
    "figura = Piramide(a= 2, b=3, h=5)\n",
    "\n",
    "print(\"Piramides turis: \", figura.get_piramides_turis())\n",
    "\n",
    "class Kubas(Rectangle):\n",
    "\n",
    "    def __init__ (self, a, b, h):\n",
    "        super().__init__(a, b) # cia atkeliavo is Rectangle funkcijos, 9 eilute\n",
    "        self.a = h\n",
    "\n",
    "    def getKubo_turis(self):\n",
    "        Turis = self.S*self.a\n",
    "        return Turis\n",
    "\n",
    "figura = Kubas(a= 2, b=5, h= 3)\n",
    "\n",
    "print(\"Kubo turis: \", figura.getKubo_turis())"
   ]
  },
  {
   "cell_type": "code",
   "execution_count": 29,
   "metadata": {},
   "outputs": [
    {
     "name": "stdout",
     "output_type": "stream",
     "text": [
      "pavadinimas turi 4 sedimu vietu\n",
      "pavadinimasturi 4 sedimu vietu \n",
      "pavadinimasturi 4 sedimu vietu\n"
     ]
    }
   ],
   "source": [
    "#su paveldėjimu:\n",
    "# Sukurkite klasę Vehicle su tokiais atributais - Pavadinimas, Rida\n",
    "#Sukurkite išvestines klases Car, Bus, Train,\n",
    "# kurie paveldėtų viską iš Vehicle, ir papildomai būtų galima\n",
    "# nurodyti Seats - sėdimų vietų skaičių, ir visi \n",
    "# turėtų metoda GetSeats() grąžinantį tekstą:\n",
    "# <Pavadinimas> turi <Seats> sėdimų vietų.\n",
    "\n",
    "# class Vehicle():\n",
    "#     def __init__(self, P, R):\n",
    "#         self.P = P\n",
    "#         self.R = R\n",
    "\n",
    "# class Car(Vehicle):\n",
    "#     def __init__(self, P, R, S):\n",
    "#        super().__init__(P, R)\n",
    "#        self.S = S\n",
    "    \n",
    "#     def GetSeats(self):\n",
    "#         Txt = self.P + \" turi \" + str(self.S) + \" sedimu vietu\"\n",
    "#         return Txt\n",
    "    \n",
    "# test = Car(P= 'pavadinimas', R=5000, S= 4)\n",
    "\n",
    "# print(test.GetSeats())\n",
    "\n",
    "# class Bus(Vehicle):\n",
    "#     def __init__(self, P, R, S):\n",
    "#        super().__init__(P, R)\n",
    "#        self.S = S\n",
    "    \n",
    "#     def GetSeats(self):\n",
    "#         Txt = self.P + \"turi \" + str(self.S) + \" sedimu vietu \"\n",
    "#         return Txt\n",
    "    \n",
    "# test = Bus(P= 'pavadinimas', R=5000, S= 4)\n",
    "\n",
    "# print(test.GetSeats())\n",
    "\n",
    "# class Train(Vehicle):\n",
    "#     def __init__(self, P, R, S):\n",
    "#        super().__init__(P, R)\n",
    "#        self.S = S\n",
    "    \n",
    "#     def GetSeats(self):\n",
    "#         Txt = self.P + \"turi \" + str(self.S) + \" sedimu vietu\"\n",
    "#         return Txt\n",
    "    \n",
    "# test = Train(P= 'pavadinimas', R=5000, S= 4)\n",
    "\n",
    "# print(test.GetSeats())"
   ]
  },
  {
   "cell_type": "code",
   "execution_count": 30,
   "metadata": {},
   "outputs": [
    {
     "name": "stdout",
     "output_type": "stream",
     "text": [
      "['52;0.3666;19.0616\\n', '11;0.8672;9.5391\\n', '55;0.9966;54.8137\\n', '55;0.7318;40.2481\\n', '47;0.6703;31.5026\\n', '71;0.2205;15.6522\\n', '49;0.4725;23.1545\\n', '48;0.5563;26.7004\\n', '82;0.5348;43.8516\\n', '24;0.3462;8.3078\\n', '13;0.784;10.1921\\n', '95;0.348;33.0584\\n', '22;0.8328;18.3206\\n', '95;0.5423;51.5156\\n', '32;0.3351;10.722\\n', '35;0.1916;6.7055\\n', '86;0.1262;10.8526\\n', '90;0.5941;53.47\\n', '8;0.914;7.3119\\n', '21;0.7839;16.4628\\n', '23;0.7763;17.8547\\n', '92;0.8757;80.5658\\n', '38;0.4502;17.1066\\n', '99;0.6906;68.37\\n', '29;0.8418;24.4108\\n', '93;0.1275;11.8609\\n', '53;0.1101;5.8339\\n', '87;0.3211;27.9361\\n', '47;0.5525;25.9672\\n', '38;0.5458;20.7417\\n', '38;0.8458;32.1402\\n', '36;0.6115;22.0154\\n', '83;0.5083;42.1888\\n', '79;0.7373;58.2501\\n', '2;0.9759;1.9518\\n', '18;0.7192;12.9463\\n', '86;0.0424;3.6446\\n', '78;0.4218;32.9034\\n', '51;0.8271;42.1807\\n', '7;0.796;5.5719\\n', '65;0.2074;13.4795\\n', '9;0.0712;0.6406\\n', '50;0.0602;3.0117\\n', '59;0.1218;7.1866\\n', '91;0.5095;46.3658\\n', '39;0.4785;18.662\\n', '36;0.9309;33.5135\\n', '16;0.9365;14.9834\\n', '73;0.918;67.0125\\n', '54;0.8063;43.5409\\n', '79;0.6445;50.9184\\n', '47;0.2458;11.5529\\n', '97;0.891;86.4277\\n', '0;0.447;0.0\\n', '18;0.4852;8.7331\\n', '54;0.2035;10.9905\\n', '93;0.8647;80.4135\\n', '79;0.0794;6.2735\\n', '62;0.8848;54.8547\\n', '63;0.632;39.8134\\n', '22;0.2339;5.146\\n', '49;0.5989;29.3444\\n', '19;0.3103;5.8948\\n', '43;0.6658;28.6315\\n', '65;0.2537;16.4886\\n', '0;0.141;0.0\\n', '80;0.034;2.7227\\n', '70;0.845;59.1502\\n', '95;0.2386;22.6687\\n', '58;0.9328;54.1016\\n', '47;0.8425;39.5996\\n', '89;0.4205;37.4252\\n', '99;0.6455;63.9074\\n', '94;0.4627;43.4957\\n', '70;0.3674;25.7203\\n', '41;0.0327;1.339\\n', '60;0.1313;7.8757\\n', '18;0.6409;11.5358\\n', '12;0.8725;10.4701\\n', '3;0.6112;1.8335\\n', '28;0.9838;27.5461\\n', '50;0.1139;5.6974\\n', '33;0.5738;18.9364\\n', '52;0.8379;43.5727\\n', '99;0.5597;55.4141\\n', '41;0.7883;32.3216\\n', '1;0.4241;0.4241\\n', '58;0.511;29.6396\\n', '60;0.876;52.5573\\n', '5;0.45;2.2501\\n', '3;0.0977;0.293\\n', '44;0.7697;33.8663\\n', '83;0.5361;44.4997\\n', '51;0.671;34.2191\\n', '58;0.8126;47.1291\\n', '27;0.0196;0.5292\\n', '71;0.8812;62.5665\\n', '96;0.1953;18.7448\\n', '18;0.9794;17.63\\n', '83;0.84;69.716']\n",
      "[52.0, 11.0, 55.0, 55.0, 47.0, 71.0, 49.0, 48.0, 82.0, 24.0, 13.0, 95.0, 22.0, 95.0, 32.0, 35.0, 86.0, 90.0, 8.0, 21.0, 23.0, 92.0, 38.0, 99.0, 29.0, 93.0, 53.0, 87.0, 47.0, 38.0, 38.0, 36.0, 83.0, 79.0, 2.0, 18.0, 86.0, 78.0, 51.0, 7.0, 65.0, 9.0, 50.0, 59.0, 91.0, 39.0, 36.0, 16.0, 73.0, 54.0, 79.0, 47.0, 97.0, 0.0, 18.0, 54.0, 93.0, 79.0, 62.0, 63.0, 22.0, 49.0, 19.0, 43.0, 65.0, 0.0, 80.0, 70.0, 95.0, 58.0, 47.0, 89.0, 99.0, 94.0, 70.0, 41.0, 60.0, 18.0, 12.0, 3.0, 28.0, 50.0, 33.0, 52.0, 99.0, 41.0, 1.0, 58.0, 60.0, 5.0, 3.0, 44.0, 83.0, 51.0, 58.0, 27.0, 71.0, 96.0, 18.0, 83.0]\n",
      "[0.3666, 0.8672, 0.9966, 0.7318, 0.6703, 0.2205, 0.4725, 0.5563, 0.5348, 0.3462, 0.784, 0.348, 0.8328, 0.5423, 0.3351, 0.1916, 0.1262, 0.5941, 0.914, 0.7839, 0.7763, 0.8757, 0.4502, 0.6906, 0.8418, 0.1275, 0.1101, 0.3211, 0.5525, 0.5458, 0.8458, 0.6115, 0.5083, 0.7373, 0.9759, 0.7192, 0.0424, 0.4218, 0.8271, 0.796, 0.2074, 0.0712, 0.0602, 0.1218, 0.5095, 0.4785, 0.9309, 0.9365, 0.918, 0.8063, 0.6445, 0.2458, 0.891, 0.447, 0.4852, 0.2035, 0.8647, 0.0794, 0.8848, 0.632, 0.2339, 0.5989, 0.3103, 0.6658, 0.2537, 0.141, 0.034, 0.845, 0.2386, 0.9328, 0.8425, 0.4205, 0.6455, 0.4627, 0.3674, 0.0327, 0.1313, 0.6409, 0.8725, 0.6112, 0.9838, 0.1139, 0.5738, 0.8379, 0.5597, 0.7883, 0.4241, 0.511, 0.876, 0.45, 0.0977, 0.7697, 0.5361, 0.671, 0.8126, 0.0196, 0.8812, 0.1953, 0.9794, 0.84]\n",
      "[19.0616, 9.5391, 54.8137, 40.2481, 31.5026, 15.6522, 23.1545, 26.7004, 43.8516, 8.3078, 10.1921, 33.0584, 18.3206, 51.5156, 10.722, 6.7055, 10.8526, 53.47, 7.3119, 16.4628, 17.8547, 80.5658, 17.1066, 68.37, 24.4108, 11.8609, 5.8339, 27.9361, 25.9672, 20.7417, 32.1402, 22.0154, 42.1888, 58.2501, 1.9518, 12.9463, 3.6446, 32.9034, 42.1807, 5.5719, 13.4795, 0.6406, 3.0117, 7.1866, 46.3658, 18.662, 33.5135, 14.9834, 67.0125, 43.5409, 50.9184, 11.5529, 86.4277, 0.0, 8.7331, 10.9905, 80.4135, 6.2735, 54.8547, 39.8134, 5.146, 29.3444, 5.8948, 28.6315, 16.4886, 0.0, 2.7227, 59.1502, 22.6687, 54.1016, 39.5996, 37.4252, 63.9074, 43.4957, 25.7203, 1.339, 7.8757, 11.5358, 10.4701, 1.8335, 27.5461, 5.6974, 18.9364, 43.5727, 55.4141, 32.3216, 0.4241, 29.6396, 52.5573, 2.2501, 0.293, 33.8663, 44.4997, 34.2191, 47.1291, 0.5292, 62.5665, 18.7448, 17.63, 69.716]\n",
      "(51.47, 0.546122, 27.091621)\n",
      "(0.0, 0.0196, 0.0)\n",
      "(99.0, 0.9966, 86.4277)\n"
     ]
    }
   ],
   "source": [
    "#parašykite klasę TxtAnalyzer, kuriai kreipimosi metu galima būtų nurodyti failo pavadinimą ir stulpelių skirtuką.\n",
    "#klasė sukūrimo metu turi nuskaityti failą, stulpelius skaičių suskirstyti į sąrašus ir juos priskirti atributams X, Y ir Z.\n",
    "#Realizuokite metodus, kurie grąžintų X, Y, Z sąrašų vidurkius, minimalias ir maksimalias vertes. Pythone yra min, max, sum funkcijos\n",
    "\n",
    "class TxtAnalyzer():\n",
    "    def __init__(self, pav, skirtukas):\n",
    "        self.pavadinimas = pav\n",
    "        self.skirt = skirtukas\n",
    "        self.x = []\n",
    "        self.y = []\n",
    "        self.z = []\n",
    "        pass\n",
    "    def TxtReader(self):\n",
    "        fname = self.pavadinimas\n",
    "        f = open(fname, mode='r', encoding='utf-8')\n",
    "        tekstas = f.readlines()\n",
    "        print(tekstas)\n",
    "        f.close()\n",
    "        for x in tekstas:\n",
    "            self.x.append(float(x.split(self.skirt)[0]))\n",
    "            self.y.append(float(x.split(self.skirt)[1]))\n",
    "            self.z.append(float(x.split(self.skirt)[2]))\n",
    "        print(self.x)\n",
    "        print(self.y)\n",
    "        print(self.z)\n",
    "\n",
    "    def getVidurkis(self):\n",
    "        vidurkisX = sum(self.x)/len(self.x)\n",
    "        vidurkisY = sum(self.y)/len(self.y)\n",
    "        vidurkisZ = sum(self.z)/len(self.z)\n",
    "        return vidurkisX, vidurkisY, vidurkisZ\n",
    "    \n",
    "    def getMin(self):\n",
    "        minX = min(self.x)\n",
    "        minY = min(self.y)\n",
    "        minZ = min(self.z)\n",
    "        return minX, minY, minZ\n",
    "    \n",
    "    def getMax(self):\n",
    "        maxX = max(self.x)\n",
    "        maxY = max(self.y)\n",
    "        maxZ = max(self.z)\n",
    "        return maxX, maxY, maxZ\n",
    "\n",
    "\n",
    "ats = TxtAnalyzer('data0.txt',';')\n",
    "ats.TxtReader()\n",
    "print(ats.getVidurkis())\n",
    "print(ats.getMin())\n",
    "print(ats.getMax())\n",
    "        \n"
   ]
  },
  {
   "cell_type": "code",
   "execution_count": 33,
   "metadata": {},
   "outputs": [
    {
     "name": "stdout",
     "output_type": "stream",
     "text": [
      "X: \n",
      "Ave: 51.47\n",
      "Min: 0.0\n",
      "Max: 99.0\n",
      "\n",
      "Y: \n",
      "Ave: 0.546122\n",
      "Min: 0.0196\n",
      "Max: 0.9966\n",
      "\n",
      "Z: \n",
      "Ave: 27.091621\n",
      "Min: 0.0\n",
      "Max: 86.4277\n"
     ]
    }
   ],
   "source": [
    "class TxtAnalyzer:\n",
    "    def __init__(self, fileName, dell=';'):\n",
    "        self.fileName = fileName\n",
    "        self.dell = dell\n",
    "        self.X, self.Y, self.Z = self.readFile()\n",
    "    def readFile(self):\n",
    "        X, Y, Z = [], [], []\n",
    "        try:\n",
    "             with open(self.fileName, 'r') as file:\n",
    "                for line in file:\n",
    "                    values = line.strip().split(self.dell)\n",
    "                    if len(values) == 3:\n",
    "                        X.append(float(values[0]))\n",
    "                        Y.append(float(values[1]))\n",
    "                        Z.append(float(values[2]))\n",
    "        except FileNotFoundError:\n",
    "            print(\"File not found!\")\n",
    "        return X, Y, Z\n",
    "    def Ave(self, data):\n",
    "        if data:\n",
    "            return sum(data)/len(data)\n",
    "        else:\n",
    "            return None\n",
    "    def Min(self, data):\n",
    "        if data:\n",
    "            return min(data)\n",
    "        else:\n",
    "            return None\n",
    "    def Max(self, data):\n",
    "        if data:\n",
    "            return max(data)\n",
    "        else:\n",
    "            return None\n",
    "        \n",
    "fileName = \"data0.txt\"  \n",
    "analyzer = TxtAnalyzer(fileName)\n",
    "print(\"X: \")\n",
    "print(\"Ave:\", analyzer.Ave(analyzer.X))\n",
    "print(\"Min:\", analyzer.Min(analyzer.X))\n",
    "print(\"Max:\", analyzer.Max(analyzer.X))\n",
    "print(\"\\nY: \")\n",
    "print(\"Ave:\", analyzer.Ave(analyzer.Y))\n",
    "print(\"Min:\", analyzer.Min(analyzer.Y))\n",
    "print(\"Max:\", analyzer.Max(analyzer.Y))\n",
    "print(\"\\nZ: \")\n",
    "print(\"Ave:\", analyzer.Ave(analyzer.Z))\n",
    "print(\"Min:\", analyzer.Min(analyzer.Z))\n",
    "print(\"Max:\", analyzer.Max(analyzer.Z))"
   ]
  },
  {
   "cell_type": "code",
   "execution_count": 35,
   "metadata": {},
   "outputs": [
    {
     "name": "stdout",
     "output_type": "stream",
     "text": [
      "[0.25, 1.25, 2.25, 3.25, 4.25]\n",
      "[0.25, 1.25, 2.25, 3.25, 4.25]\n"
     ]
    }
   ],
   "source": [
    "x = [1,2,3,4,5]\n",
    "x1 = []\n",
    "for sk in x:\n",
    "    x1.append(sk-0.75) \n",
    "print(x1)\n",
    "\n",
    "x2 = [sk-0.75 for sk in x]\n",
    "print(x2)"
   ]
  },
  {
   "cell_type": "code",
   "execution_count": 36,
   "metadata": {},
   "outputs": [],
   "source": [
    "import numpy as np"
   ]
  },
  {
   "cell_type": "code",
   "execution_count": 38,
   "metadata": {},
   "outputs": [
    {
     "name": "stdout",
     "output_type": "stream",
     "text": [
      "[0 1 2 3 4 5 6 7 8 9]\n",
      "<class 'numpy.ndarray'>\n"
     ]
    }
   ],
   "source": [
    "x = np.arange(0, 10)\n",
    "print(x)\n",
    "print(type(x))"
   ]
  },
  {
   "cell_type": "code",
   "execution_count": 39,
   "metadata": {},
   "outputs": [
    {
     "name": "stdout",
     "output_type": "stream",
     "text": [
      "[-0.75  0.25  1.25  2.25  3.25  4.25  5.25  6.25  7.25  8.25]\n"
     ]
    }
   ],
   "source": [
    "y = x - 0.75\n",
    "print(y)"
   ]
  },
  {
   "cell_type": "code",
   "execution_count": null,
   "metadata": {},
   "outputs": [],
   "source": [
    "np.average\n",
    "np.min\n",
    "np.mean\n",
    "np.median"
   ]
  },
  {
   "cell_type": "code",
   "execution_count": 40,
   "metadata": {},
   "outputs": [
    {
     "name": "stdout",
     "output_type": "stream",
     "text": [
      "[1.75 2.75 3.75 4.75 5.75]\n"
     ]
    }
   ],
   "source": [
    "x = [1,2,3,4,5]\n",
    "a_array = np.asanyarray(x)\n",
    "print(a_array+0.75)"
   ]
  },
  {
   "cell_type": "code",
   "execution_count": 43,
   "metadata": {},
   "outputs": [
    {
     "name": "stdout",
     "output_type": "stream",
     "text": [
      "[ 1  8 15]\n"
     ]
    }
   ],
   "source": [
    "x = [1,2,3]\n",
    "y = [1,4,5]\n",
    "x_np = np.asanyarray(x)\n",
    "y_np = np.asanyarray(y)\n",
    "c = x_np*y_np\n",
    "print(c)"
   ]
  },
  {
   "cell_type": "code",
   "execution_count": 44,
   "metadata": {},
   "outputs": [
    {
     "data": {
      "text/plain": [
       "5"
      ]
     },
     "execution_count": 44,
     "metadata": {},
     "output_type": "execute_result"
    }
   ],
   "source": [
    "np.min(x)\n",
    "np.max(y_np)"
   ]
  },
  {
   "cell_type": "code",
   "execution_count": 56,
   "metadata": {},
   "outputs": [
    {
     "name": "stdout",
     "output_type": "stream",
     "text": [
      "[0 7 1 4 4 1 6 7 0 6 6 4 4 8 3 1 7 4 6 6 7 2 4 8 8 9 6 1 2 5 3 2 6 4 1 5 2\n",
      " 2 4 2 5 9 9 6 3 4 5 9 2 0 1 3 7 9 3 8 3 1 7 3 2 2 7 0 7 6 5 1 5 3 6 2 8 0\n",
      " 9 0 3 9 0 6 8 8 3 8 5 3 5 3 8 8 0 8 3 4 7 9 4 4 1 4]\n"
     ]
    }
   ],
   "source": [
    "atsitiktinis = np.random.randint(0,10, 100)\n",
    "print(atsitiktinis)"
   ]
  },
  {
   "cell_type": "code",
   "execution_count": 59,
   "metadata": {},
   "outputs": [
    {
     "name": "stdout",
     "output_type": "stream",
     "text": [
      "[0.34616031 0.74305046 0.74653106 0.65413474 0.48565505 0.38041859\n",
      " 0.13315659 0.24571978 0.57143032 0.13649888]\n"
     ]
    }
   ],
   "source": [
    "atsitiktinis_float = np.random.rand(10)\n",
    "print(atsitiktinis_float)"
   ]
  },
  {
   "cell_type": "code",
   "execution_count": 68,
   "metadata": {},
   "outputs": [
    {
     "name": "stdout",
     "output_type": "stream",
     "text": [
      "4.7\n",
      "4.834639850541642\n",
      "5.0 1 9\n"
     ]
    }
   ],
   "source": [
    "xas = np.random.randint(1,10,100)\n",
    "svoriai = np.random.rand(100)\n",
    "vidurkis =np.mean(xas)\n",
    "print(vidurkis)\n",
    "sv_vid = np.average(xas, weights=svoriai)\n",
    "print(sv_vid)\n",
    "medx = np.median(xas)\n",
    "print(medx, np.min(xas), np.max(xas))"
   ]
  },
  {
   "cell_type": "code",
   "execution_count": 73,
   "metadata": {},
   "outputs": [
    {
     "name": "stdout",
     "output_type": "stream",
     "text": [
      "[ 0.          0.71428571  1.42857143  2.14285714  2.85714286  3.57142857\n",
      "  4.28571429  5.          5.71428571  6.42857143  7.14285714  7.85714286\n",
      "  8.57142857  9.28571429 10.        ]\n"
     ]
    }
   ],
   "source": [
    "l = np.linspace(0,10, 15)\n",
    "print(l)"
   ]
  },
  {
   "cell_type": "code",
   "execution_count": 77,
   "metadata": {},
   "outputs": [
    {
     "name": "stdout",
     "output_type": "stream",
     "text": [
      "0\n",
      "4.5\n",
      "9\n"
     ]
    }
   ],
   "source": [
    "n_np = np.arange(0,10)\n",
    "print(n_np.min())\n",
    "print(n_np.mean())\n",
    "print(n_np.max())\n"
   ]
  },
  {
   "cell_type": "code",
   "execution_count": 82,
   "metadata": {},
   "outputs": [
    {
     "ename": "SyntaxError",
     "evalue": "invalid syntax. Perhaps you forgot a comma? (2767640131.py, line 1)",
     "output_type": "error",
     "traceback": [
      "\u001b[1;36m  Cell \u001b[1;32mIn[82], line 1\u001b[1;36m\u001b[0m\n\u001b[1;33m    n_np = (1 1 1 1 10)\u001b[0m\n\u001b[1;37m            ^\u001b[0m\n\u001b[1;31mSyntaxError\u001b[0m\u001b[1;31m:\u001b[0m invalid syntax. Perhaps you forgot a comma?\n"
     ]
    }
   ],
   "source": [
    "n_np = (1 1 1 1 10)\n",
    "print(n_np.min())\n",
    "print(n_np.mean())\n",
    "print(n_np.max())"
   ]
  },
  {
   "cell_type": "code",
   "execution_count": 93,
   "metadata": {},
   "outputs": [
    {
     "name": "stdout",
     "output_type": "stream",
     "text": [
      "The autoreload extension is already loaded. To reload it, use:\n",
      "  %reload_ext autoreload\n"
     ]
    }
   ],
   "source": [
    "# %load_ext autoreload"
   ]
  },
  {
   "cell_type": "code",
   "execution_count": 100,
   "metadata": {},
   "outputs": [],
   "source": [
    "%autoreload 2"
   ]
  },
  {
   "cell_type": "code",
   "execution_count": 95,
   "metadata": {},
   "outputs": [],
   "source": [
    "import modulis"
   ]
  },
  {
   "cell_type": "code",
   "execution_count": 101,
   "metadata": {},
   "outputs": [
    {
     "name": "stdout",
     "output_type": "stream",
     "text": [
      "70\n"
     ]
    }
   ],
   "source": [
    "print(modulis.A)"
   ]
  },
  {
   "cell_type": "code",
   "execution_count": 102,
   "metadata": {},
   "outputs": [
    {
     "name": "stdout",
     "output_type": "stream",
     "text": [
      "as esu nauja printA funkcija\n"
     ]
    }
   ],
   "source": [
    "modulis.printA()"
   ]
  },
  {
   "cell_type": "code",
   "execution_count": null,
   "metadata": {},
   "outputs": [],
   "source": []
  },
  {
   "cell_type": "code",
   "execution_count": 103,
   "metadata": {},
   "outputs": [
    {
     "name": "stdout",
     "output_type": "stream",
     "text": [
      "as esu nauja printA funkcija\n"
     ]
    }
   ],
   "source": [
    "modulis.printA()"
   ]
  },
  {
   "cell_type": "code",
   "execution_count": 108,
   "metadata": {},
   "outputs": [
    {
     "name": "stdout",
     "output_type": "stream",
     "text": [
      "Auto  turi 4 sedimu vietu\n",
      "Busas turi 40 sedimu vietu \n",
      "Trauk turi 400 sedimu vietu\n"
     ]
    }
   ],
   "source": [
    "# iškelkite savo anksčiau rašytas Vehicle, Car, etc klases\n",
    "# į modulį\n",
    "# ir patikrinkite klasių veikimą\n",
    "# sukurdami kintamuosius ir patikrindami jų veikimą\n",
    "\n",
    "import modulis\n",
    "    \n",
    "test = Car(P= 'Auto ', R=6000, S= 4)\n",
    "print(test.GetSeats())\n",
    "    \n",
    "test = Bus(P= 'Busas ', R=5000, S= 40)\n",
    "print(test.GetSeats())\n",
    "    \n",
    "test = Train(P= 'Trauk ', R=5000, S= 400)\n",
    "print(test.GetSeats())"
   ]
  },
  {
   "cell_type": "code",
   "execution_count": 117,
   "metadata": {},
   "outputs": [
    {
     "name": "stdout",
     "output_type": "stream",
     "text": [
      "['U[V] ; I[A] ; j[mA/cm^2] ; P[mW/cm^2]\\n', '1.2 ; 0.0016649 ; 20.8118375 ; 24.974205\\n', '1.1766667 ; 0.0009455 ; 11.8182562 ; 13.9061482\\n', '1.1533333 ; 0.0007314 ; 9.142985 ; 10.5449094\\n', '1.13 ; 0.0005438 ; 6.7977675 ; 7.6814773\\n', '1.1066667 ; 0.0003807 ; 4.7582825 ; 5.2658326\\n', '1.0833333 ; 0.0002361 ; 2.95165 ; 3.1976208\\n', '1.06 ; 0.0001112 ; 1.389795 ; 1.4731827\\n', '1.0366667 ; 7.9e-06 ; 0.0992689 ; 0.1029088\\n', '1.0133333 ; -8.02e-05 ; -1.0020675 ; -1.0154284\\n', '0.99 ; -0.0001565 ; -1.9566913 ; -1.9371243\\n', '0.9666667 ; -0.0002187 ; -2.733175 ; -2.6420692\\n', '0.9433333 ; -0.0002693 ; -3.3666913 ; -3.1759121\\n', '0.92 ; -0.0003116 ; -3.894765 ; -3.5831838\\n', '0.8966667 ; -0.0003498 ; -4.3723275 ; -3.9205203\\n', '0.8733333 ; -0.0003837 ; -4.7965137 ; -4.1889553\\n', '0.85 ; -0.0004108 ; -5.1346213 ; -4.3644281\\n', '0.8266667 ; -0.0004379 ; -5.4734425 ; -4.5247125\\n', '0.8033333 ; -0.000462 ; -5.77456 ; -4.6388965\\n', '0.78 ; -0.0004839 ; -6.048345 ; -4.7177091\\n', '0.7566667 ; -0.000506 ; -6.3255663 ; -4.7863451\\n', '0.7333333 ; -0.0005252 ; -6.5643925 ; -4.8138878\\n', '0.71 ; -0.0005449 ; -6.8117538 ; -4.8363452\\n', '0.6866667 ; -0.000562 ; -7.0252675 ; -4.824017\\n', '0.6633333 ; -0.0005766 ; -7.2076575 ; -4.7810795\\n', '0.64 ; -0.0005938 ; -7.4222275 ; -4.7502256\\n', '0.6166667 ; -0.0006098 ; -7.6220275 ; -4.7002503\\n', '0.5933333 ; -0.0006256 ; -7.8203925 ; -4.6400995\\n', '0.57 ; -0.0006376 ; -7.969395 ; -4.5425551\\n', '0.5466667 ; -0.0006502 ; -8.1271838 ; -4.4428604\\n', '0.5233333 ; -0.0006661 ; -8.3264925 ; -4.3575311\\n', '0.5 ; -0.0006754 ; -8.44218 ; -4.22109\\n', '0.4766667 ; -0.000687 ; -8.5873575 ; -4.0933071\\n', '0.4533333 ; -0.0006992 ; -8.7399288 ; -3.962101\\n', '0.43 ; -0.0007072 ; -8.84032 ; -3.8013376\\n', '0.4066667 ; -0.0007168 ; -8.9600075 ; -3.6437364\\n', '0.3833333 ; -0.0007257 ; -9.0715375 ; -3.4774227\\n', '0.36 ; -0.0007335 ; -9.1688 ; -3.300768\\n', '0.3366667 ; -0.0007412 ; -9.2644613 ; -3.1190353\\n', '0.3133333 ; -0.0007465 ; -9.3317287 ; -2.9239417\\n', '0.29 ; -0.0007485 ; -9.3562413 ; -2.71331\\n', '0.2666667 ; -0.0007526 ; -9.4069775 ; -2.5085273\\n', '0.2433333 ; -0.0007567 ; -9.4590725 ; -2.3017076\\n', '0.22 ; -0.0007609 ; -9.511565 ; -2.0925443\\n', '0.1966667 ; -0.0007609 ; -9.5116975 ; -1.8706338\\n', '0.1733333 ; -0.0007625 ; -9.530755 ; -1.6519975\\n', '0.15 ; -0.0007657 ; -9.5714638 ; -1.4357196\\n', '0.1266667 ; -0.0007648 ; -9.5599925 ; -1.2109324\\n', '0.1033333 ; -0.0007641 ; -9.5511213 ; -0.9869492\\n', '0.08 ; -0.0007631 ; -9.5392038 ; -0.7631363\\n', '0.0566667 ; -0.0007641 ; -9.5508112 ; -0.5412126\\n', '0.0333333 ; -0.0007636 ; -9.545485 ; -0.3181828\\n', '0.01 ; -0.0007606 ; -9.507875 ; -0.0950787\\n', '-0.0133333 ; -0.0007594 ; -9.4919412 ; 0.1265592\\n', '-0.0366667 ; -0.00076 ; -9.5005525 ; 0.3483536\\n', '-0.06 ; -0.0007562 ; -9.452765 ; 0.5671659\\n', '-0.0833333 ; -0.0007586 ; -9.4825662 ; 0.7902139\\n', '-0.1066667 ; -0.0007569 ; -9.4609075 ; 1.0091635\\n', '-0.13 ; -0.0007564 ; -9.4552562 ; 1.2291833\\n', '-0.1533333 ; -0.000752 ; -9.4005575 ; 1.4414188\\n', '-0.1766667 ; -0.0007523 ; -9.403595 ; 1.6613018\\n', '-0.2 ; -0.0007524 ; -9.4045075 ; 1.8809015']\n",
      "[0.0016649, 0.0009455, 0.0007314, 0.0005438, 0.0003807, 0.0002361, 0.0001112, 7.9e-06, -8.02e-05, -0.0001565, -0.0002187, -0.0002693, -0.0003116, -0.0003498, -0.0003837, -0.0004108, -0.0004379, -0.000462, -0.0004839, -0.000506, -0.0005252, -0.0005449, -0.000562, -0.0005766, -0.0005938, -0.0006098, -0.0006256, -0.0006376, -0.0006502, -0.0006661, -0.0006754, -0.000687, -0.0006992, -0.0007072, -0.0007168, -0.0007257, -0.0007335, -0.0007412, -0.0007465, -0.0007485, -0.0007526, -0.0007567, -0.0007609, -0.0007609, -0.0007625, -0.0007657, -0.0007648, -0.0007641, -0.0007631, -0.0007641, -0.0007636, -0.0007606, -0.0007594, -0.00076, -0.0007562, -0.0007586, -0.0007569, -0.0007564, -0.000752, -0.0007523, -0.0007524]\n",
      "[1.2, 1.1766667, 1.1533333, 1.13, 1.1066667, 1.0833333, 1.06, 1.0366667, 1.0133333, 0.99, 0.9666667, 0.9433333, 0.92, 0.8966667, 0.8733333, 0.85, 0.8266667, 0.8033333, 0.78, 0.7566667, 0.7333333, 0.71, 0.6866667, 0.6633333, 0.64, 0.6166667, 0.5933333, 0.57, 0.5466667, 0.5233333, 0.5, 0.4766667, 0.4533333, 0.43, 0.4066667, 0.3833333, 0.36, 0.3366667, 0.3133333, 0.29, 0.2666667, 0.2433333, 0.22, 0.1966667, 0.1733333, 0.15, 0.1266667, 0.1033333, 0.08, 0.0566667, 0.0333333, 0.01, -0.0133333, -0.0366667, -0.06, -0.0833333, -0.1066667, -0.13, -0.1533333, -0.1766667, -0.2]\n",
      "[20.8118375, 11.8182562, 9.142985, 6.7977675, 4.7582825, 2.95165, 1.389795, 0.0992689, -1.0020675, -1.9566913, -2.733175, -3.3666913, -3.894765, -4.3723275, -4.7965137, -5.1346213, -5.4734425, -5.77456, -6.048345, -6.3255663, -6.5643925, -6.8117538, -7.0252675, -7.2076575, -7.4222275, -7.6220275, -7.8203925, -7.969395, -8.1271838, -8.3264925, -8.44218, -8.5873575, -8.7399288, -8.84032, -8.9600075, -9.0715375, -9.1688, -9.2644613, -9.3317287, -9.3562413, -9.4069775, -9.4590725, -9.511565, -9.5116975, -9.530755, -9.5714638, -9.5599925, -9.5511213, -9.5392038, -9.5508112, -9.545485, -9.507875, -9.4919412, -9.5005525, -9.452765, -9.4825662, -9.4609075, -9.4552562, -9.4005575, -9.403595, -9.4045075]\n",
      "[24.974205, 13.9061482, 10.5449094, 7.6814773, 5.2658326, 3.1976208, 1.4731827, 0.1029088, -1.0154284, -1.9371243, -2.6420692, -3.1759121, -3.5831838, -3.9205203, -4.1889553, -4.3644281, -4.5247125, -4.6388965, -4.7177091, -4.7863451, -4.8138878, -4.8363452, -4.824017, -4.7810795, -4.7502256, -4.7002503, -4.6400995, -4.5425551, -4.4428604, -4.3575311, -4.22109, -4.0933071, -3.962101, -3.8013376, -3.6437364, -3.4774227, -3.300768, -3.1190353, -2.9239417, -2.71331, -2.5085273, -2.3017076, -2.0925443, -1.8706338, -1.6519975, -1.4357196, -1.2109324, -0.9869492, -0.7631363, -0.5412126, -0.3181828, -0.0950787, 0.1265592, 0.3483536, 0.5671659, 0.7902139, 1.0091635, 1.2291833, 1.4414188, 1.6613018, 1.8809015]\n",
      "24.974205\n",
      "2.4974205000000005\n"
     ]
    }
   ],
   "source": [
    "#sukurkite failus nuskaitančią klasę, ji turi būti aprašyta jūsų kuriamame modulyje;\n",
    "#ta klasė turi nuskaityti pateiktą failą, ir suskaidyti stulpelius į sąrašus:\n",
    "#sąrašai I, U, j, P, duomenys iš juos iš atitinkamų taip pat pavadintų stulpelių\n",
    "#realizuokite tai, jog klasė rastų tokį dydį - maksimalų P, suskaičiuotų tokį dydį pce = Pmax / 1000 * 100%;\n",
    "#šie dydžiai turi būti pasiekiamį arba kaip atributas, arba galite įdėti metodą jam gauti\n",
    "\n",
    "# class TxtNustaitymas():\n",
    "#     def __init__(self, pav, skirtukas):\n",
    "#         self.pavadinimas = pav\n",
    "#         self.skirt = skirtukas\n",
    "#         self.i = []\n",
    "#         self.u = []\n",
    "#         self.j = []\n",
    "#         self.p = []\n",
    "#         pass\n",
    "\n",
    "#     def TxtReader(self):\n",
    "#         fname = self.pavadinimas\n",
    "#         f = open(fname, mode='r', encoding='utf-8')\n",
    "#         tekstas = f.readlines()\n",
    "#         print(tekstas)\n",
    "#         f.close()\n",
    "#         for elem in tekstas[1:]:\n",
    "#             self.u.append(float(elem.split(self.skirt)[0]))\n",
    "#             self.i.append(float(elem.split(self.skirt)[1]))\n",
    "#             self.j.append(float(elem.split(self.skirt)[2]))\n",
    "#             self.p.append(float(elem.split(self.skirt)[3]))\n",
    "#         print(self.i)\n",
    "#         print(self.u)\n",
    "#         print(self.j)\n",
    "#         print(self.p)\n",
    "    \n",
    "#     def getMaxP(self):\n",
    "#         maxP = max(self.p)\n",
    "#         return maxP\n",
    "    \n",
    "#     def getpceP(self):\n",
    "#         maxP = self.getMaxP()\n",
    "#         pce = maxP / 1000 * 100\n",
    "#         return pce\n",
    "\n",
    "# ats = TxtNustaitymas('REF_D_1k_FW_2.05.dat',';')\n",
    "# ats.TxtReader()\n",
    "# print(ats.getMaxP())\n",
    "# print(ats.getpceP())\n",
    "        \n"
   ]
  },
  {
   "cell_type": "code",
   "execution_count": 148,
   "metadata": {},
   "outputs": [
    {
     "name": "stdout",
     "output_type": "stream",
     "text": [
      "Pmax yra: 24.974205\n",
      "Ppce yra: 2.5 %\n"
     ]
    }
   ],
   "source": [
    "import modulis\n",
    "\n",
    "ats = modulis.TxtNuskaitymas('REF_D_1k_FW_2.05.dat',';')\n",
    "print('Pmax yra:', ats.getMaxP())\n",
    "print('Ppce yra:', ats.getpceP(), '%')"
   ]
  },
  {
   "cell_type": "code",
   "execution_count": null,
   "metadata": {},
   "outputs": [],
   "source": [
    "#Bonus, kas atliko - pabandykite realizuoti radimą tokių verčių: j kai U = 0 (arba close to zero), \n",
    "# U, kai j =0 (arba close to zero), jie turi specialius žymėjimus jsc ir Uoc."
   ]
  },
  {
   "cell_type": "code",
   "execution_count": 149,
   "metadata": {},
   "outputs": [
    {
     "name": "stdout",
     "output_type": "stream",
     "text": [
      "1.63\n"
     ]
    }
   ],
   "source": [
    "class keturiolika_failu():\n",
    "    def __init__(self, Pavadinimas, Skirtukas):\n",
    "        self.Pavadinimas = Pavadinimas\n",
    "        self.Skirtukas = Skirtukas\n",
    "        self.I = []\n",
    "        self.U = []\n",
    "        self.j = []\n",
    "        self.p = []\n",
    "        self.__dataReader() # kreipiasi i dataReader; __ padar privaciu ir naudojami tik klases viduje\n",
    "    def __dataReader(self):\n",
    "        fname = self.Pavadinimas\n",
    "        file = open(fname, mode='r', encoding= 'utf-8')\n",
    "        sarasas = file.readlines()\n",
    "        file.close()\n",
    "        for eilute in sarasas[1::]:\n",
    "            self.I.append(float(eilute.split(self.Skirtukas)[0]))\n",
    "            self.U.append(float(eilute.split(self.Skirtukas)[1]))           \n",
    "            self.j.append(float(eilute.split(self.Skirtukas)[2]))\n",
    "            self.p.append(float(eilute.split(self.Skirtukas)[3].replace('\\n', '')))\n",
    "    def getPmax(self):\n",
    "        Pmax = (max(self.p))\n",
    "        return Pmax\n",
    "    \n",
    "    def getPCE(self):\n",
    "        Pmax= self.getPmax()\n",
    "        PCE = round((Pmax / 1000 * 100),2)\n",
    "        return PCE\n",
    "    \n",
    "sarasas = keturiolika_failu('REF_D_5k_FW_2.03.dat',';')\n",
    "# sarasas.__dataReader()\n",
    "print(sarasas.getPCE())"
   ]
  },
  {
   "cell_type": "code",
   "execution_count": 150,
   "metadata": {},
   "outputs": [
    {
     "ename": "ModuleNotFoundError",
     "evalue": "No module named 'pandas'",
     "output_type": "error",
     "traceback": [
      "\u001b[1;31m---------------------------------------------------------------------------\u001b[0m",
      "\u001b[1;31mModuleNotFoundError\u001b[0m                       Traceback (most recent call last)",
      "Cell \u001b[1;32mIn[150], line 1\u001b[0m\n\u001b[1;32m----> 1\u001b[0m \u001b[38;5;28;01mimport\u001b[39;00m \u001b[38;5;21;01mpandas\u001b[39;00m \u001b[38;5;28;01mas\u001b[39;00m \u001b[38;5;21;01mpd\u001b[39;00m\n",
      "\u001b[1;31mModuleNotFoundError\u001b[0m: No module named 'pandas'"
     ]
    }
   ],
   "source": [
    "import pandas as pd"
   ]
  },
  {
   "cell_type": "code",
   "execution_count": 151,
   "metadata": {},
   "outputs": [
    {
     "name": "stdout",
     "output_type": "stream",
     "text": [
      "Defaulting to user installation because normal site-packages is not writeableNote: you may need to restart the kernel to use updated packages.\n",
      "\n",
      "Collecting pandas\n",
      "  Using cached pandas-2.2.1-cp312-cp312-win_amd64.whl.metadata (19 kB)\n",
      "Requirement already satisfied: numpy<2,>=1.26.0 in c:\\users\\rezav\\appdata\\local\\packages\\pythonsoftwarefoundation.python.3.12_qbz5n2kfra8p0\\localcache\\local-packages\\python312\\site-packages (from pandas) (1.26.4)\n",
      "Requirement already satisfied: python-dateutil>=2.8.2 in c:\\users\\rezav\\appdata\\local\\packages\\pythonsoftwarefoundation.python.3.12_qbz5n2kfra8p0\\localcache\\local-packages\\python312\\site-packages (from pandas) (2.9.0.post0)\n",
      "Collecting pytz>=2020.1 (from pandas)\n",
      "  Downloading pytz-2024.1-py2.py3-none-any.whl.metadata (22 kB)\n",
      "Collecting tzdata>=2022.7 (from pandas)\n",
      "  Downloading tzdata-2024.1-py2.py3-none-any.whl.metadata (1.4 kB)\n",
      "Requirement already satisfied: six>=1.5 in c:\\users\\rezav\\appdata\\local\\packages\\pythonsoftwarefoundation.python.3.12_qbz5n2kfra8p0\\localcache\\local-packages\\python312\\site-packages (from python-dateutil>=2.8.2->pandas) (1.16.0)\n",
      "Downloading pandas-2.2.1-cp312-cp312-win_amd64.whl (11.5 MB)\n",
      "   ---------------------------------------- 0.0/11.5 MB ? eta -:--:--\n",
      "   ---------------------------------------- 0.0/11.5 MB 1.3 MB/s eta 0:00:09\n",
      "    --------------------------------------- 0.2/11.5 MB 2.6 MB/s eta 0:00:05\n",
      "   - -------------------------------------- 0.5/11.5 MB 4.1 MB/s eta 0:00:03\n",
      "   -- ------------------------------------- 0.8/11.5 MB 5.3 MB/s eta 0:00:03\n",
      "   ---- ----------------------------------- 1.2/11.5 MB 6.1 MB/s eta 0:00:02\n",
      "   ----- ---------------------------------- 1.7/11.5 MB 6.8 MB/s eta 0:00:02\n",
      "   ------- -------------------------------- 2.2/11.5 MB 7.3 MB/s eta 0:00:02\n",
      "   --------- ------------------------------ 2.7/11.5 MB 7.8 MB/s eta 0:00:02\n",
      "   ----------- ---------------------------- 3.2/11.5 MB 8.2 MB/s eta 0:00:02\n",
      "   ------------- -------------------------- 3.8/11.5 MB 8.6 MB/s eta 0:00:01\n",
      "   --------------- ------------------------ 4.3/11.5 MB 8.9 MB/s eta 0:00:01\n",
      "   ----------------- ---------------------- 4.9/11.5 MB 9.2 MB/s eta 0:00:01\n",
      "   ------------------ --------------------- 5.4/11.5 MB 9.4 MB/s eta 0:00:01\n",
      "   -------------------- ------------------- 6.0/11.5 MB 9.5 MB/s eta 0:00:01\n",
      "   ---------------------- ----------------- 6.5/11.5 MB 9.7 MB/s eta 0:00:01\n",
      "   ------------------------ --------------- 7.1/11.5 MB 9.8 MB/s eta 0:00:01\n",
      "   -------------------------- ------------- 7.6/11.5 MB 9.9 MB/s eta 0:00:01\n",
      "   ---------------------------- ----------- 8.2/11.5 MB 10.1 MB/s eta 0:00:01\n",
      "   ------------------------------ --------- 8.7/11.5 MB 10.1 MB/s eta 0:00:01\n",
      "   -------------------------------- ------- 9.3/11.5 MB 10.2 MB/s eta 0:00:01\n",
      "   ---------------------------------- ----- 9.9/11.5 MB 10.3 MB/s eta 0:00:01\n",
      "   ------------------------------------ --- 10.4/11.5 MB 10.9 MB/s eta 0:00:01\n",
      "   -------------------------------------- - 10.9/11.5 MB 11.3 MB/s eta 0:00:01\n",
      "   ---------------------------------------  11.5/11.5 MB 11.5 MB/s eta 0:00:01\n",
      "   ---------------------------------------  11.5/11.5 MB 11.5 MB/s eta 0:00:01\n",
      "   ---------------------------------------- 11.5/11.5 MB 10.4 MB/s eta 0:00:00\n",
      "Downloading pytz-2024.1-py2.py3-none-any.whl (505 kB)\n",
      "   ---------------------------------------- 0.0/505.5 kB ? eta -:--:--\n",
      "   --------------------------------------  501.8/505.5 kB 15.9 MB/s eta 0:00:01\n",
      "   --------------------------------------- 505.5/505.5 kB 10.5 MB/s eta 0:00:00\n",
      "Downloading tzdata-2024.1-py2.py3-none-any.whl (345 kB)\n",
      "   ---------------------------------------- 0.0/345.4 kB ? eta -:--:--\n",
      "   --------------------------------------- 345.4/345.4 kB 10.8 MB/s eta 0:00:00\n",
      "Installing collected packages: pytz, tzdata, pandas\n",
      "Successfully installed pandas-2.2.1 pytz-2024.1 tzdata-2024.1\n"
     ]
    }
   ],
   "source": [
    "pip install pandas"
   ]
  },
  {
   "cell_type": "code",
   "execution_count": 152,
   "metadata": {},
   "outputs": [],
   "source": [
    "import pandas as pd"
   ]
  },
  {
   "cell_type": "code",
   "execution_count": 153,
   "metadata": {},
   "outputs": [
    {
     "name": "stdout",
     "output_type": "stream",
     "text": [
      "Defaulting to user installation because normal site-packages is not writeable\n",
      "Requirement already satisfied: matplotlib in c:\\users\\rezav\\appdata\\local\\packages\\pythonsoftwarefoundation.python.3.12_qbz5n2kfra8p0\\localcache\\local-packages\\python312\\site-packages (3.8.3)\n",
      "Requirement already satisfied: contourpy>=1.0.1 in c:\\users\\rezav\\appdata\\local\\packages\\pythonsoftwarefoundation.python.3.12_qbz5n2kfra8p0\\localcache\\local-packages\\python312\\site-packages (from matplotlib) (1.2.0)\n",
      "Requirement already satisfied: cycler>=0.10 in c:\\users\\rezav\\appdata\\local\\packages\\pythonsoftwarefoundation.python.3.12_qbz5n2kfra8p0\\localcache\\local-packages\\python312\\site-packages (from matplotlib) (0.12.1)\n",
      "Requirement already satisfied: fonttools>=4.22.0 in c:\\users\\rezav\\appdata\\local\\packages\\pythonsoftwarefoundation.python.3.12_qbz5n2kfra8p0\\localcache\\local-packages\\python312\\site-packages (from matplotlib) (4.50.0)\n",
      "Requirement already satisfied: kiwisolver>=1.3.1 in c:\\users\\rezav\\appdata\\local\\packages\\pythonsoftwarefoundation.python.3.12_qbz5n2kfra8p0\\localcache\\local-packages\\python312\\site-packages (from matplotlib) (1.4.5)\n",
      "Requirement already satisfied: numpy<2,>=1.21 in c:\\users\\rezav\\appdata\\local\\packages\\pythonsoftwarefoundation.python.3.12_qbz5n2kfra8p0\\localcache\\local-packages\\python312\\site-packages (from matplotlib) (1.26.4)\n",
      "Requirement already satisfied: packaging>=20.0 in c:\\users\\rezav\\appdata\\local\\packages\\pythonsoftwarefoundation.python.3.12_qbz5n2kfra8p0\\localcache\\local-packages\\python312\\site-packages (from matplotlib) (24.0)\n",
      "Requirement already satisfied: pillow>=8 in c:\\users\\rezav\\appdata\\local\\packages\\pythonsoftwarefoundation.python.3.12_qbz5n2kfra8p0\\localcache\\local-packages\\python312\\site-packages (from matplotlib) (10.2.0)\n",
      "Requirement already satisfied: pyparsing>=2.3.1 in c:\\users\\rezav\\appdata\\local\\packages\\pythonsoftwarefoundation.python.3.12_qbz5n2kfra8p0\\localcache\\local-packages\\python312\\site-packages (from matplotlib) (3.1.2)\n",
      "Requirement already satisfied: python-dateutil>=2.7 in c:\\users\\rezav\\appdata\\local\\packages\\pythonsoftwarefoundation.python.3.12_qbz5n2kfra8p0\\localcache\\local-packages\\python312\\site-packages (from matplotlib) (2.9.0.post0)\n",
      "Requirement already satisfied: six>=1.5 in c:\\users\\rezav\\appdata\\local\\packages\\pythonsoftwarefoundation.python.3.12_qbz5n2kfra8p0\\localcache\\local-packages\\python312\\site-packages (from python-dateutil>=2.7->matplotlib) (1.16.0)\n",
      "Note: you may need to restart the kernel to use updated packages.\n"
     ]
    }
   ],
   "source": [
    "pip install matplotlib"
   ]
  },
  {
   "cell_type": "code",
   "execution_count": null,
   "metadata": {},
   "outputs": [],
   "source": [
    "import matplotlib.pyplot as plt"
   ]
  }
 ],
 "metadata": {
  "kernelspec": {
   "display_name": "Python 3",
   "language": "python",
   "name": "python3"
  },
  "language_info": {
   "codemirror_mode": {
    "name": "ipython",
    "version": 3
   },
   "file_extension": ".py",
   "mimetype": "text/x-python",
   "name": "python",
   "nbconvert_exporter": "python",
   "pygments_lexer": "ipython3",
   "version": "3.12.2"
  }
 },
 "nbformat": 4,
 "nbformat_minor": 2
}
