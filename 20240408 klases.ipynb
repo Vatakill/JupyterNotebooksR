{
 "cells": [
  {
   "cell_type": "code",
   "execution_count": null,
   "metadata": {},
   "outputs": [],
   "source": [
    "print('Testas')"
   ]
  },
  {
   "cell_type": "code",
   "execution_count": 11,
   "metadata": {},
   "outputs": [],
   "source": [
    "# klasės \n",
    "Name = 'Petras'\n",
    "class Asmuo():\n",
    "    def __init__(self):\n",
    "        print('as ka tik atsiradau')\n",
    "        self.Name = 'Jonas'\n",
    "        pass\n",
    "    \n",
    "    def printName(self):\n",
    "        print(Name)\n",
    "        print(self.Name)"
   ]
  },
  {
   "cell_type": "code",
   "execution_count": 37,
   "metadata": {},
   "outputs": [],
   "source": [
    "Name = 'Petras'\n",
    "class Asmuo():\n",
    "    def __init__(self, name):\n",
    "        self.Name = name\n",
    "        pass\n",
    "    \n",
    "    def getName(self):\n",
    "        return self.Name\n",
    "\n",
    "    def setName(self, new_name):\n",
    "        self.Name = new_name"
   ]
  },
  {
   "cell_type": "code",
   "execution_count": 36,
   "metadata": {},
   "outputs": [],
   "source": [
    "a1 = Asmuo('Jonas')"
   ]
  },
  {
   "cell_type": "code",
   "execution_count": 38,
   "metadata": {},
   "outputs": [
    {
     "name": "stdout",
     "output_type": "stream",
     "text": [
      "Jonas\n",
      "Vardas\n"
     ]
    }
   ],
   "source": [
    "print(a1.getName())\n",
    "a1.setName('Vardas')\n",
    "print(a1.getName())"
   ]
  },
  {
   "cell_type": "code",
   "execution_count": 47,
   "metadata": {},
   "outputs": [],
   "source": [
    "def calculateAge():\n",
    "    return 'Cha'\n",
    "\n",
    "class Asmuo():\n",
    "    def __init__(self, name, gm):\n",
    "        self.Name = name\n",
    "        self.BYear = gm\n",
    "        self.Age = self.calculateAge()\n",
    "        pass\n",
    "    \n",
    "    def getName(self):\n",
    "        return self.Name\n",
    "\n",
    "    def setName(self, new_name):\n",
    "        self.Name = new_name\n",
    "\n",
    "    def calculateAge(self):\n",
    "        return 2024 - self.BYear"
   ]
  },
  {
   "cell_type": "code",
   "execution_count": 46,
   "metadata": {},
   "outputs": [
    {
     "name": "stdout",
     "output_type": "stream",
     "text": [
      "28 Vardas\n"
     ]
    }
   ],
   "source": [
    "a1 = Asmuo('Vardas', 1996)\n",
    "print(a1.Age, a1.getName())"
   ]
  },
  {
   "cell_type": "code",
   "execution_count": 52,
   "metadata": {},
   "outputs": [],
   "source": [
    "# paveldėjimas\n",
    "\n",
    "class Studentas(Asmuo):\n",
    "    def getStatus(self):\n",
    "        return 'Studentas'"
   ]
  },
  {
   "cell_type": "code",
   "execution_count": 53,
   "metadata": {},
   "outputs": [
    {
     "name": "stdout",
     "output_type": "stream",
     "text": [
      "32 Urte\n"
     ]
    }
   ],
   "source": [
    "std1 = Studentas('Urte', 1992)\n",
    "print(std1.Age, std1.getName())"
   ]
  },
  {
   "cell_type": "code",
   "execution_count": null,
   "metadata": {},
   "outputs": [],
   "source": [
    "std1.getStatus()"
   ]
  },
  {
   "cell_type": "code",
   "execution_count": 58,
   "metadata": {},
   "outputs": [],
   "source": [
    "#  sudėtingesnis paveldėjimas\n",
    "class Studentas(Asmuo):\n",
    "    def __init__(self, name, gm):\n",
    "        super().__init__(name, gm)\n",
    "        self.Entroll = True\n",
    "\n",
    "std1 = Studentas('Urte', 1998)"
   ]
  },
  {
   "cell_type": "code",
   "execution_count": 60,
   "metadata": {},
   "outputs": [
    {
     "name": "stdout",
     "output_type": "stream",
     "text": [
      "26 True\n"
     ]
    }
   ],
   "source": [
    "print(std1.Age, std1.Entroll)"
   ]
  },
  {
   "cell_type": "code",
   "execution_count": 69,
   "metadata": {},
   "outputs": [
    {
     "name": "stdout",
     "output_type": "stream",
     "text": [
      "64\n"
     ]
    }
   ],
   "source": [
    "# aprašyti klasę Kvadratas\n",
    "# kreipiantis į klasę reikia nurodyti kvadrato ilgį a.\n",
    "# Klasė  turi turėti savo atributą Plotas, kurį turi suskaičiuoti klasės kūrimo metu.\n",
    "# Plotas = a*a\n",
    "# apskaičiuoti Plotas atributo reikšmę.\n",
    "\n",
    "class Kvadratas():\n",
    "    def __init__(self, a):\n",
    "        self.a = a\n",
    "        self.Plotas = a * a\n",
    "    def plotas(self):\n",
    "        return self.Plotas\n",
    "kvadratu = Kvadratas(8)\n",
    "\n",
    "print(kvadratu.plotas())\n",
    "\n"
   ]
  },
  {
   "cell_type": "code",
   "execution_count": 73,
   "metadata": {},
   "outputs": [],
   "source": [
    "del kvadratu"
   ]
  },
  {
   "cell_type": "code",
   "execution_count": 75,
   "metadata": {},
   "outputs": [
    {
     "name": "stdout",
     "output_type": "stream",
     "text": [
      "64\n",
      "32\n"
     ]
    }
   ],
   "source": [
    "class Kvadratas():\n",
    "    def __init__(self, a):\n",
    "        self.a = a\n",
    "        self.Plotas = a * a\n",
    "        self.Perimetras = a * 4\n",
    "    def plotas(self):\n",
    "        return self.Plotas\n",
    "    def perimetras(self):\n",
    "        return self.Perimetras\n",
    "    \n",
    "\n",
    "kvadratu = Kvadratas(8)\n",
    "\n",
    "print(kvadratu.plotas())\n",
    "print(kvadratu.perimetras())"
   ]
  },
  {
   "cell_type": "code",
   "execution_count": 77,
   "metadata": {},
   "outputs": [
    {
     "name": "stdout",
     "output_type": "stream",
     "text": [
      "20\n",
      "18\n"
     ]
    }
   ],
   "source": [
    "# aprašykite klasę Rectangle\n",
    "# kreipiantis į klasę, reikia nurodyti stačiakampio\n",
    "# kraštines a ir b.\n",
    "# Realizuokite atributą Plotas = a*b\n",
    "# ir metodą, grąžinantį Ploto reikšmę\n",
    "# Taip pat pridėkite metodą, apskaičiuojantį ir grąžinantį\n",
    "# perimetrą P=2(a+b)\n",
    "\n",
    "class Rectangle():\n",
    "    def __init__(self, a, b):\n",
    "        self.a = a\n",
    "        self.b = b\n",
    "        self.Plotas = a*b\n",
    "        self.Perimetras = (a+b)*2\n",
    "    def plotas(self):\n",
    "        return self.Plotas\n",
    "    def perimetras(self):\n",
    "        return self.Perimetras\n",
    "    \n",
    "staciakampis = Rectangle(5,4)\n",
    "\n",
    "print(staciakampis.plotas())\n",
    "print(staciakampis.perimetras())\n"
   ]
  },
  {
   "cell_type": "code",
   "execution_count": 79,
   "metadata": {},
   "outputs": [
    {
     "name": "stdout",
     "output_type": "stream",
     "text": [
      "20\n"
     ]
    }
   ],
   "source": [
    "class Rectangle():\n",
    "    def __init__(self, a, b):\n",
    "        self.a = a\n",
    "        self.b = b\n",
    "    def plotas(self):\n",
    "        return self.a*self.b\n",
    "   \n",
    "staciakampis = Rectangle(5,4)\n",
    "\n",
    "print(staciakampis.plotas())"
   ]
  },
  {
   "cell_type": "code",
   "execution_count": 87,
   "metadata": {},
   "outputs": [
    {
     "name": "stdout",
     "output_type": "stream",
     "text": [
      "Lietuva, Tėvyne mūsų\n",
      "Tu didvyrių žeme,\n",
      "Iš praeities Tavo sūnūs\n",
      "Te stiprybę semia.\n",
      "\n",
      "Tegul Tavo vaikai eina\n",
      "Vien takais dorybės\n",
      "Tegul dirba Tavo naudai\n",
      "Ir žmonių gėrybei.\n",
      "\n",
      "Tegul saulė Lietuvoj\n",
      "Tamsumas prašalina,\n",
      "Ir šviesa, ir tiesa\n",
      "Mūs žingsnius telydi.\n",
      "\n",
      "Tegul meilė Lietuvos\n",
      "Dega mūsų širdyse,\n",
      "Vardan tos Lietuvos\n",
      "Vienybė težydi! \n"
     ]
    }
   ],
   "source": [
    "#susikurkite su Notepadu tekstinį failą su bet kokiu tekstu\n",
    "#parašykite klasę TxtReader, kuriai kreipimosimetu būtų nurodomas tekstinio failo pavadinimas;\n",
    "#klasės sukūrimo metu tas tekstinis failas turi būti nuskaitomas\n",
    "#ir nuskaitytas tekstas turi būti priskirtas atributui Text\n",
    "#parašykite metodą getText(), kuri grąžintų atributo text reikšmę\n",
    "\n",
    "# Note20240405.txt\n",
    "\n",
    "class TxtReader():\n",
    "    def __init__(self, fileName):\n",
    "        self.fileName = fileName\n",
    "        \n",
    "        file_r = open (self.fileName, mode ='r', encoding = 'utf-8')\n",
    "        self.Text = file_r.read()\n",
    "        file_r.close()\n",
    "\n",
    "    def getText(self):\n",
    "        return self.Text\n",
    "\n",
    "Tekstas = TxtReader('../mano darbai/Note.txt')\n",
    "\n",
    "print(Tekstas.getText())\n"
   ]
  },
  {
   "cell_type": "code",
   "execution_count": null,
   "metadata": {},
   "outputs": [],
   "source": [
    "#parašykite klasę TxtAnalyzer, kuriai kreipimosi metu galima būtų nurodyti failo pavadinimą ir stulpelių skirtuką.\n",
    "#klasė sukūrimo metu turi nuskaityti failą, stulpelius skaičių suskirstyti į sąrašus ir juos priskirti atributams X, Y ir Z.\n",
    "#Realizuokite metodus, kurie grąžintų X, Y, Z sąrašų vidurkius, minimalias ir maksimalias vertes. Pythone yra min, max, sum funkcijos;\n",
    "\n",
    "class TxtAnalyzer():\n",
    "    def __init__(self, failo_pavadinimas, skirtukas):\n",
    "        self.fileName = failo_pavadinimas\n",
    "        \n",
    "        file_r = open (self.fileName, mode ='r', encoding = 'utf-8')\n",
    "        self.Text = file_r.read()\n",
    "        file_r.close()\n",
    "\n",
    "        "
   ]
  },
  {
   "cell_type": "code",
   "execution_count": 101,
   "metadata": {},
   "outputs": [
    {
     "name": "stdout",
     "output_type": "stream",
     "text": [
      "523.3333333333334\n",
      "314.0\n",
      "4186.666666666667\n",
      "1256.0\n"
     ]
    }
   ],
   "source": [
    "#Sukurkite klasę Rutulys\n",
    "#kuriai galėtumėte nurodyti Rutulio spindulį r.\n",
    "#Sukurkite metodus, skirtus rasti jo Tūriui ir paviršiaus plotui;\n",
    "#Taip pat metodą, kuriuo jūs pakeistumėte spindulio r reikšmę.\n",
    "\n",
    "\n",
    "\n",
    "class Rutulys():\n",
    "  def __init__(self, r):\n",
    "    self.r = r\n",
    "\n",
    "  def turis(self):\n",
    "    return 4 / 3 * 3.14 * self.r**3\n",
    "  def plotas(self):\n",
    "    return 4*3.14* self.r**2\n",
    "  def changer(self, new_r):\n",
    "    self.r = new_r\n",
    "\n",
    "\n",
    "r = float(input('iveskite spinduli'))\n",
    "rutulys  = Rutulys(r)\n",
    "print(rutulys.turis())\n",
    "print(rutulys.plotas())\n",
    "\n",
    "\n",
    "r = float(input('iveskite spinduli'))\n",
    "rutulys.changer(r)\n",
    "\n",
    "print(rutulys.turis())\n",
    "print(rutulys.plotas())"
   ]
  },
  {
   "cell_type": "code",
   "execution_count": 109,
   "metadata": {},
   "outputs": [
    {
     "name": "stdout",
     "output_type": "stream",
     "text": [
      "157.0\n",
      "31.400000000000002\n",
      "628.0\n",
      "62.800000000000004\n"
     ]
    }
   ],
   "source": [
    "#Parašykite klasę Apskritimas, kuriai glite nurodyti apskritimo spindulį r.\n",
    "# realizuokite du metodus getS ir getP, plotui ir perimetrui gražinti. \n",
    "\n",
    "class Apskritimas():\n",
    "    def __init__(self, r):\n",
    "        self.r = r\n",
    "    def getS(self):\n",
    "        return 2*3.14*self.r**2\n",
    "    def getP (self):\n",
    "        return 2*3.14*self.r\n",
    "    def change (self, new_r):\n",
    "        self.r = new_r\n",
    "    \n",
    "aps = Apskritimas(5)\n",
    "print(aps.getS())\n",
    "print(aps.getP())\n",
    "\n",
    "aps.change(10)\n",
    "print(aps.getS())\n",
    "print(aps.getP())"
   ]
  },
  {
   "cell_type": "code",
   "execution_count": 111,
   "metadata": {},
   "outputs": [
    {
     "name": "stdout",
     "output_type": "stream",
     "text": [
      "157.0\n",
      "31.400000000000002\n",
      "628.0\n",
      "62.800000000000004\n"
     ]
    }
   ],
   "source": [
    "#advanced Apskritimas:\n",
    "#padarykite taip, jog klasė Apskritimas turėtų atributus S ir P, plotui ir perimetrui, \n",
    "# ir kad atnaujinus spindulį r, automatiškai pasikeistų S ir P atributų reikšmės, o getS, \n",
    "# getP metodai, kaip ir anksčiau grąžintų S ir P atributų reikšmes.\n",
    "\n",
    "class Apskritimas():\n",
    "    def __init__(self, r):\n",
    "        self.r = r\n",
    "        self.S = 2*3.14*r**2\n",
    "        self.P = 2*3.14*r\n",
    "        \n",
    "    def getS(self):\n",
    "        return self.S\n",
    "    \n",
    "    def getP (self):\n",
    "        return self.P\n",
    "    \n",
    "    def change (self, new_r):\n",
    "        self.r = new_r\n",
    "        self.S = 2*3.14*new_r**2\n",
    "        self.P = 2*3.14*new_r\n",
    "    \n",
    "aps = Apskritimas(5)\n",
    "print(aps.getS())\n",
    "print(aps.getP())\n",
    "\n",
    "aps.change(10)\n",
    "print(aps.getS())\n",
    "print(aps.getP())\n"
   ]
  },
  {
   "cell_type": "code",
   "execution_count": 112,
   "metadata": {},
   "outputs": [
    {
     "name": "stdout",
     "output_type": "stream",
     "text": [
      "31.400000000000002 78.5\n",
      "62.800000000000004 314.0\n"
     ]
    }
   ],
   "source": [
    "class Apskritimas():\n",
    "    def __init__(self, r):\n",
    "        self.R = r\n",
    "        self.S = 0\n",
    "        self.P = 0\n",
    "        self.upadeAll()\n",
    "    \n",
    "    def getP(self):\n",
    "        return self.P\n",
    "    \n",
    "    def getS(self):\n",
    "        return self.S\n",
    "    \n",
    "    def upadeAll(self):\n",
    "        self.S = 3.14*self.R**2\n",
    "        self.P = 2*3.14*self.R\n",
    "        \n",
    "    def change(self, new_r):\n",
    "        self.R = new_r\n",
    "        self.upadeAll()\n",
    "\n",
    "a = Apskritimas(5)\n",
    "print(a.getP(), a.getS())\n",
    "a.change(10)\n",
    "print(a.getP(), a.getS())"
   ]
  },
  {
   "cell_type": "code",
   "execution_count": 116,
   "metadata": {},
   "outputs": [
    {
     "name": "stdout",
     "output_type": "stream",
     "text": [
      "18 20\n",
      "16.0\n"
     ]
    }
   ],
   "source": [
    "#užduotis su paveldjimu:\n",
    "#parašykite klasę Rectangle, kurioje būtų ilgio ir pločio atributai, bei du metodai - getS - plotui ir getP -erimetrui rasti\n",
    "#Sukurkite išvestinę (child) klasę Kubas, kuri papildomai turėtų Tūrio skaičiavimo metodą\n",
    "#• Klasę Piramidė - išvestinė klasė (child class). Pridėkite\n",
    "# papildomą funkcionalumą - metodą, argumentus piramidės tūrio skaičiavimui.\n",
    "\n",
    "class Rectangle():\n",
    "    def __init__(self, ilgis, plotis):\n",
    "        self.a = ilgis\n",
    "        self.b = plotis\n",
    "        self.S = ilgis * plotis\n",
    "        self.P = (ilgis + plotis)*2\n",
    "\n",
    "    def getS(self):\n",
    "        return self.S\n",
    "    \n",
    "    def getP(self):\n",
    "        return self.P\n",
    "\n",
    "stk = Rectangle(5, 4)\n",
    "print(stk.getP(), stk.getS())  \n",
    "\n",
    "\n",
    "class Piramide(Rectangle):\n",
    "    def __init__(self, ilgis, plotis, aukstis):\n",
    "        super().__init__(ilgis, plotis)\n",
    "        self.h = aukstis\n",
    "    def turis(self):\n",
    "        tur = 1/3*self.S*self.h \n",
    "        return tur\n",
    "    \n",
    "figura = Piramide(2, 4, 6)\n",
    "print(figura.turis())"
   ]
  },
  {
   "cell_type": "code",
   "execution_count": null,
   "metadata": {},
   "outputs": [],
   "source": [
    "class Kubas(Rectangle):\n",
    "    def __init__(self, aukstis)\n",
    "        self.c = aukstis\n",
    "        self.T = stk * aukstis\n",
    "    def getT(self):\n",
    "        return self.T\n",
    "\n",
    " = Rectangle(5, 4)"
   ]
  }
 ],
 "metadata": {
  "kernelspec": {
   "display_name": "Python 3",
   "language": "python",
   "name": "python3"
  },
  "language_info": {
   "codemirror_mode": {
    "name": "ipython",
    "version": 3
   },
   "file_extension": ".py",
   "mimetype": "text/x-python",
   "name": "python",
   "nbconvert_exporter": "python",
   "pygments_lexer": "ipython3",
   "version": "3.12.2"
  }
 },
 "nbformat": 4,
 "nbformat_minor": 2
}
