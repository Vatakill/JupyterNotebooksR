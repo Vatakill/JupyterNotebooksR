{
 "cells": [
  {
   "cell_type": "code",
   "execution_count": 28,
   "metadata": {},
   "outputs": [
    {
     "name": "stdout",
     "output_type": "stream",
     "text": [
      "17.88144\n",
      "1.7881440000000002\n"
     ]
    }
   ],
   "source": [
    "#sukurkite failus nuskaitančią klasę, ji turi būti aprašyta jūsų kuriamame modulyje;\n",
    "#ta klasė turi nuskaityti pateiktą failą, ir suskaidyti stulpelius į sąrašus:\n",
    "#sąrašai I, U, j, P, duomenys iš juos iš atitinkamų taip pat pavadintų stulpelių\n",
    "#realizuokite tai, jog klasė rastų tokį dydį - maksimalų P, suskaičiuotų tokį dydį pce = Pmax / 1000 * 100%;\n",
    "#šie dydžiai turi būti pasiekiamį arba kaip atributas, arba galite įdėti metodą jam gauti\n",
    "\n",
    "\n",
    "# class FileReader():\n",
    "#     \"\"\"\n",
    "#    Labai kieta mano klase\n",
    "#     \"\"\"\n",
    "#     def __init__(self, FileName):\n",
    "#         self.FileName = FileName\n",
    "#         self.I = []\n",
    "#         self.U = []\n",
    "#         self.j = []\n",
    "#         self.P = []\n",
    "\n",
    "#     def getFileContent(self):\n",
    "#         File = open(self.FileName, mode = 'r')\n",
    "#         FileContent = File.readlines()\n",
    "#         File.close()\n",
    "\n",
    "#         for line in FileContent[1:]:\n",
    "#             u = float(line.split(';')[0])\n",
    "#             self.U.append(u)\n",
    "#             i = float(line.split(';')[1])\n",
    "#             self.I.append(i)\n",
    "#             J = float(line.split(';')[2])\n",
    "#             self.j.append(J)\n",
    "#             p = float(line.split(';')[3])\n",
    "#             self.P.append(p)\n",
    "\n",
    "#     def maxP(self):\n",
    "#         maxP = max(self.P)\n",
    "#         return maxP\n",
    "    \n",
    "#     def pce(self):\n",
    "#         maxi = self.maxP()\n",
    "#         pce = maxi / 10\n",
    "#         return pce\n",
    "import modulis\n",
    "\n",
    "Var = modulis.FileReader('REF_D_2k_FW_2.03.dat')\n",
    "Var.getFileContent()\n",
    "print(Var.maxP())\n",
    "print(Var.pce())"
   ]
  }
 ],
 "metadata": {
  "kernelspec": {
   "display_name": "Python 3",
   "language": "python",
   "name": "python3"
  },
  "language_info": {
   "codemirror_mode": {
    "name": "ipython",
    "version": 3
   },
   "file_extension": ".py",
   "mimetype": "text/x-python",
   "name": "python",
   "nbconvert_exporter": "python",
   "pygments_lexer": "ipython3",
   "version": "3.12.2"
  }
 },
 "nbformat": 4,
 "nbformat_minor": 2
}
